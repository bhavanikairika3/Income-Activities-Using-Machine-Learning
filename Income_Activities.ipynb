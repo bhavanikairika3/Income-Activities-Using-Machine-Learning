{
 "cells": [
  {
   "cell_type": "code",
   "execution_count": 1,
   "metadata": {
    "id": "1XziB1YQYoN_"
   },
   "outputs": [],
   "source": [
    "import pandas as pd\n",
    "import numpy as np\n",
    "import seaborn as sns\n",
    "import matplotlib.pyplot as plt\n",
    "from sklearn.preprocessing import LabelEncoder\n",
    "from sklearn.linear_model import LinearRegression\n",
    "from sklearn.neighbors import KNeighborsRegressor\n",
    "from sklearn.ensemble import RandomForestRegressor, AdaBoostRegressor, GradientBoostingRegressor\n",
    "from sklearn.preprocessing import MinMaxScaler\n",
    "from sklearn.metrics import mean_squared_error, r2_score\n",
    "from sklearn.model_selection import cross_val_score\n",
    "from sklearn.model_selection import train_test_split\n",
    "from sklearn.metrics import mean_squared_error, make_scorer\n",
    "from sklearn.model_selection import GridSearchCV\n",
    "import pickle\n",
    "\n",
    "import warnings\n",
    "warnings.filterwarnings('ignore')"
   ]
  },
  {
   "cell_type": "code",
   "execution_count": 2,
   "metadata": {
    "id": "ml8SsaIBZSZe"
   },
   "outputs": [],
   "source": [
    "df = pd.read_csv(\"C:/Users/Bhavani/Downloads/incomes.csv\")"
   ]
  },
  {
   "cell_type": "code",
   "execution_count": 3,
   "metadata": {
    "colab": {
     "base_uri": "https://localhost:8080/",
     "height": 399
    },
    "id": "qkzQ1X8DZt2t",
    "outputId": "35b94eda-15dc-4c5a-8f0a-f8022a54cbc0"
   },
   "outputs": [
    {
     "data": {
      "text/html": [
       "<div>\n",
       "<style scoped>\n",
       "    .dataframe tbody tr th:only-of-type {\n",
       "        vertical-align: middle;\n",
       "    }\n",
       "\n",
       "    .dataframe tbody tr th {\n",
       "        vertical-align: top;\n",
       "    }\n",
       "\n",
       "    .dataframe thead th {\n",
       "        text-align: right;\n",
       "    }\n",
       "</style>\n",
       "<table border=\"1\" class=\"dataframe\">\n",
       "  <thead>\n",
       "    <tr style=\"text-align: right;\">\n",
       "      <th></th>\n",
       "      <th>ADM0_NAME</th>\n",
       "      <th>ADM1_NAME</th>\n",
       "      <th>ADM2_NAME</th>\n",
       "      <th>Income_Category</th>\n",
       "      <th>Income_Month</th>\n",
       "      <th>Income_Year</th>\n",
       "      <th>IncomeValue</th>\n",
       "      <th>Income_DataSource</th>\n",
       "    </tr>\n",
       "  </thead>\n",
       "  <tbody>\n",
       "    <tr>\n",
       "      <th>0</th>\n",
       "      <td>Armenia</td>\n",
       "      <td>Aragatsotn</td>\n",
       "      <td>NaN</td>\n",
       "      <td>Agro - Food&amp;Cash Crop</td>\n",
       "      <td>8</td>\n",
       "      <td>2009.0</td>\n",
       "      <td>33.59216197</td>\n",
       "      <td>WFP VAM Impact of the Global Financial Crisis ...</td>\n",
       "    </tr>\n",
       "    <tr>\n",
       "      <th>1</th>\n",
       "      <td>Armenia</td>\n",
       "      <td>Aragatsotn</td>\n",
       "      <td>NaN</td>\n",
       "      <td>Asset Sales/Savings/Credit</td>\n",
       "      <td>8</td>\n",
       "      <td>2009.0</td>\n",
       "      <td>0.301407681</td>\n",
       "      <td>WFP VAM Impact of the Global Financial Crisis ...</td>\n",
       "    </tr>\n",
       "    <tr>\n",
       "      <th>2</th>\n",
       "      <td>Armenia</td>\n",
       "      <td>Aragatsotn</td>\n",
       "      <td>NaN</td>\n",
       "      <td>Commerce - Business/Trading</td>\n",
       "      <td>8</td>\n",
       "      <td>2009.0</td>\n",
       "      <td>3.810975935</td>\n",
       "      <td>WFP VAM Impact of the Global Financial Crisis ...</td>\n",
       "    </tr>\n",
       "    <tr>\n",
       "      <th>3</th>\n",
       "      <td>Armenia</td>\n",
       "      <td>Aragatsotn</td>\n",
       "      <td>NaN</td>\n",
       "      <td>Labor - Artisan/Skilled</td>\n",
       "      <td>8</td>\n",
       "      <td>2009.0</td>\n",
       "      <td>9.058316068</td>\n",
       "      <td>WFP VAM Impact of the Global Financial Crisis ...</td>\n",
       "    </tr>\n",
       "    <tr>\n",
       "      <th>4</th>\n",
       "      <td>Armenia</td>\n",
       "      <td>Aragatsotn</td>\n",
       "      <td>NaN</td>\n",
       "      <td>Labor - Daily/Unskilled - Mixed</td>\n",
       "      <td>8</td>\n",
       "      <td>2009.0</td>\n",
       "      <td>10.47505425</td>\n",
       "      <td>WFP VAM Impact of the Global Financial Crisis ...</td>\n",
       "    </tr>\n",
       "  </tbody>\n",
       "</table>\n",
       "</div>"
      ],
      "text/plain": [
       "  ADM0_NAME   ADM1_NAME ADM2_NAME                  Income_Category  \\\n",
       "0   Armenia  Aragatsotn       NaN            Agro - Food&Cash Crop   \n",
       "1   Armenia  Aragatsotn       NaN       Asset Sales/Savings/Credit   \n",
       "2   Armenia  Aragatsotn       NaN      Commerce - Business/Trading   \n",
       "3   Armenia  Aragatsotn       NaN          Labor - Artisan/Skilled   \n",
       "4   Armenia  Aragatsotn       NaN  Labor - Daily/Unskilled - Mixed   \n",
       "\n",
       "   Income_Month  Income_Year  IncomeValue  \\\n",
       "0             8       2009.0  33.59216197   \n",
       "1             8       2009.0  0.301407681   \n",
       "2             8       2009.0  3.810975935   \n",
       "3             8       2009.0  9.058316068   \n",
       "4             8       2009.0  10.47505425   \n",
       "\n",
       "                                   Income_DataSource  \n",
       "0  WFP VAM Impact of the Global Financial Crisis ...  \n",
       "1  WFP VAM Impact of the Global Financial Crisis ...  \n",
       "2  WFP VAM Impact of the Global Financial Crisis ...  \n",
       "3  WFP VAM Impact of the Global Financial Crisis ...  \n",
       "4  WFP VAM Impact of the Global Financial Crisis ...  "
      ]
     },
     "execution_count": 3,
     "metadata": {},
     "output_type": "execute_result"
    }
   ],
   "source": [
    "df.head()"
   ]
  },
  {
   "cell_type": "code",
   "execution_count": 4,
   "metadata": {
    "colab": {
     "base_uri": "https://localhost:8080/",
     "height": 399
    },
    "id": "UYZEwp7OZ0Wq",
    "outputId": "5926dc6a-ab4d-4087-fa0a-a44b8e21df27"
   },
   "outputs": [
    {
     "data": {
      "text/html": [
       "<div>\n",
       "<style scoped>\n",
       "    .dataframe tbody tr th:only-of-type {\n",
       "        vertical-align: middle;\n",
       "    }\n",
       "\n",
       "    .dataframe tbody tr th {\n",
       "        vertical-align: top;\n",
       "    }\n",
       "\n",
       "    .dataframe thead th {\n",
       "        text-align: right;\n",
       "    }\n",
       "</style>\n",
       "<table border=\"1\" class=\"dataframe\">\n",
       "  <thead>\n",
       "    <tr style=\"text-align: right;\">\n",
       "      <th></th>\n",
       "      <th>ADM0_NAME</th>\n",
       "      <th>ADM1_NAME</th>\n",
       "      <th>ADM2_NAME</th>\n",
       "      <th>Income_Category</th>\n",
       "      <th>Income_Month</th>\n",
       "      <th>Income_Year</th>\n",
       "      <th>IncomeValue</th>\n",
       "      <th>Income_DataSource</th>\n",
       "    </tr>\n",
       "  </thead>\n",
       "  <tbody>\n",
       "    <tr>\n",
       "      <th>4365</th>\n",
       "      <td>Yemen</td>\n",
       "      <td>NaN</td>\n",
       "      <td>NaN</td>\n",
       "      <td>Labor - Salary/Regular</td>\n",
       "      <td>12</td>\n",
       "      <td>2011.0</td>\n",
       "      <td>33.51018565</td>\n",
       "      <td>WFP VAM The State of Food Security and Nutriti...</td>\n",
       "    </tr>\n",
       "    <tr>\n",
       "      <th>4366</th>\n",
       "      <td>Yemen</td>\n",
       "      <td>NaN</td>\n",
       "      <td>NaN</td>\n",
       "      <td>Non-Wage - Aid/Welfare</td>\n",
       "      <td>12</td>\n",
       "      <td>2011.0</td>\n",
       "      <td>2.537680957</td>\n",
       "      <td>WFP VAM The State of Food Security and Nutriti...</td>\n",
       "    </tr>\n",
       "    <tr>\n",
       "      <th>4367</th>\n",
       "      <td>Yemen</td>\n",
       "      <td>NaN</td>\n",
       "      <td>NaN</td>\n",
       "      <td>Non-Wage - Pension/Benefit</td>\n",
       "      <td>12</td>\n",
       "      <td>2011.0</td>\n",
       "      <td>2.047047847</td>\n",
       "      <td>WFP VAM The State of Food Security and Nutriti...</td>\n",
       "    </tr>\n",
       "    <tr>\n",
       "      <th>4368</th>\n",
       "      <td>Yemen</td>\n",
       "      <td>NaN</td>\n",
       "      <td>NaN</td>\n",
       "      <td>Non-Wage - Remittance/Fam. Aid</td>\n",
       "      <td>12</td>\n",
       "      <td>2011.0</td>\n",
       "      <td>8.87528672</td>\n",
       "      <td>WFP VAM The State of Food Security and Nutriti...</td>\n",
       "    </tr>\n",
       "    <tr>\n",
       "      <th>4369</th>\n",
       "      <td>Yemen</td>\n",
       "      <td>NaN</td>\n",
       "      <td>NaN</td>\n",
       "      <td>Other</td>\n",
       "      <td>12</td>\n",
       "      <td>2011.0</td>\n",
       "      <td>2.077772153</td>\n",
       "      <td>WFP VAM The State of Food Security and Nutriti...</td>\n",
       "    </tr>\n",
       "  </tbody>\n",
       "</table>\n",
       "</div>"
      ],
      "text/plain": [
       "     ADM0_NAME ADM1_NAME ADM2_NAME                 Income_Category  \\\n",
       "4365     Yemen       NaN       NaN          Labor - Salary/Regular   \n",
       "4366     Yemen       NaN       NaN          Non-Wage - Aid/Welfare   \n",
       "4367     Yemen       NaN       NaN      Non-Wage - Pension/Benefit   \n",
       "4368     Yemen       NaN       NaN  Non-Wage - Remittance/Fam. Aid   \n",
       "4369     Yemen       NaN       NaN                           Other   \n",
       "\n",
       "      Income_Month  Income_Year  IncomeValue  \\\n",
       "4365            12       2011.0  33.51018565   \n",
       "4366            12       2011.0  2.537680957   \n",
       "4367            12       2011.0  2.047047847   \n",
       "4368            12       2011.0   8.87528672   \n",
       "4369            12       2011.0  2.077772153   \n",
       "\n",
       "                                      Income_DataSource  \n",
       "4365  WFP VAM The State of Food Security and Nutriti...  \n",
       "4366  WFP VAM The State of Food Security and Nutriti...  \n",
       "4367  WFP VAM The State of Food Security and Nutriti...  \n",
       "4368  WFP VAM The State of Food Security and Nutriti...  \n",
       "4369  WFP VAM The State of Food Security and Nutriti...  "
      ]
     },
     "execution_count": 4,
     "metadata": {},
     "output_type": "execute_result"
    }
   ],
   "source": [
    "df.tail()"
   ]
  },
  {
   "cell_type": "code",
   "execution_count": 5,
   "metadata": {
    "colab": {
     "base_uri": "https://localhost:8080/"
    },
    "id": "qc_5kP_RZ0Zl",
    "outputId": "3d4b18f4-72bf-48a4-b912-330969ba89a8"
   },
   "outputs": [
    {
     "data": {
      "text/plain": [
       "(4370, 8)"
      ]
     },
     "execution_count": 5,
     "metadata": {},
     "output_type": "execute_result"
    }
   ],
   "source": [
    "df.shape"
   ]
  },
  {
   "cell_type": "code",
   "execution_count": 6,
   "metadata": {
    "colab": {
     "base_uri": "https://localhost:8080/"
    },
    "id": "GabOy4u4Z0cL",
    "outputId": "c1ff1682-c59b-43f2-9ce0-a33a40bf59fb"
   },
   "outputs": [
    {
     "name": "stdout",
     "output_type": "stream",
     "text": [
      "<class 'pandas.core.frame.DataFrame'>\n",
      "RangeIndex: 4370 entries, 0 to 4369\n",
      "Data columns (total 8 columns):\n",
      " #   Column             Non-Null Count  Dtype  \n",
      "---  ------             --------------  -----  \n",
      " 0   ADM0_NAME          4370 non-null   object \n",
      " 1   ADM1_NAME          4022 non-null   object \n",
      " 2   ADM2_NAME          444 non-null    object \n",
      " 3   Income_Category    4349 non-null   object \n",
      " 4   Income_Month       4370 non-null   int64  \n",
      " 5   Income_Year        4370 non-null   float64\n",
      " 6   IncomeValue        4370 non-null   object \n",
      " 7   Income_DataSource  4345 non-null   object \n",
      "dtypes: float64(1), int64(1), object(6)\n",
      "memory usage: 273.3+ KB\n"
     ]
    }
   ],
   "source": [
    "df.info()"
   ]
  },
  {
   "cell_type": "code",
   "execution_count": 7,
   "metadata": {
    "colab": {
     "base_uri": "https://localhost:8080/",
     "height": 449
    },
    "id": "1YQN8wdYZ0fH",
    "outputId": "9cadf49c-4690-425c-cc40-3987719b7159"
   },
   "outputs": [
    {
     "data": {
      "text/html": [
       "<div>\n",
       "<style scoped>\n",
       "    .dataframe tbody tr th:only-of-type {\n",
       "        vertical-align: middle;\n",
       "    }\n",
       "\n",
       "    .dataframe tbody tr th {\n",
       "        vertical-align: top;\n",
       "    }\n",
       "\n",
       "    .dataframe thead th {\n",
       "        text-align: right;\n",
       "    }\n",
       "</style>\n",
       "<table border=\"1\" class=\"dataframe\">\n",
       "  <thead>\n",
       "    <tr style=\"text-align: right;\">\n",
       "      <th></th>\n",
       "      <th>ADM0_NAME</th>\n",
       "      <th>ADM1_NAME</th>\n",
       "      <th>ADM2_NAME</th>\n",
       "      <th>Income_Category</th>\n",
       "      <th>Income_Month</th>\n",
       "      <th>Income_Year</th>\n",
       "      <th>IncomeValue</th>\n",
       "      <th>Income_DataSource</th>\n",
       "    </tr>\n",
       "  </thead>\n",
       "  <tbody>\n",
       "    <tr>\n",
       "      <th>count</th>\n",
       "      <td>4370</td>\n",
       "      <td>4022</td>\n",
       "      <td>444</td>\n",
       "      <td>4349</td>\n",
       "      <td>4370.000000</td>\n",
       "      <td>4370.000000</td>\n",
       "      <td>4370</td>\n",
       "      <td>4345</td>\n",
       "    </tr>\n",
       "    <tr>\n",
       "      <th>unique</th>\n",
       "      <td>32</td>\n",
       "      <td>363</td>\n",
       "      <td>68</td>\n",
       "      <td>27</td>\n",
       "      <td>NaN</td>\n",
       "      <td>NaN</td>\n",
       "      <td>3744</td>\n",
       "      <td>32</td>\n",
       "    </tr>\n",
       "    <tr>\n",
       "      <th>top</th>\n",
       "      <td>Senegal</td>\n",
       "      <td>$South/Amajyepfo</td>\n",
       "      <td>Lanao Del Norte</td>\n",
       "      <td>Labor - Salary/Regular</td>\n",
       "      <td>NaN</td>\n",
       "      <td>NaN</td>\n",
       "      <td>Baseline</td>\n",
       "      <td>WFP VAM Analyse Globale de la Vulnerabilite, d...</td>\n",
       "    </tr>\n",
       "    <tr>\n",
       "      <th>freq</th>\n",
       "      <td>256</td>\n",
       "      <td>54</td>\n",
       "      <td>12</td>\n",
       "      <td>370</td>\n",
       "      <td>NaN</td>\n",
       "      <td>NaN</td>\n",
       "      <td>25</td>\n",
       "      <td>256</td>\n",
       "    </tr>\n",
       "    <tr>\n",
       "      <th>mean</th>\n",
       "      <td>NaN</td>\n",
       "      <td>NaN</td>\n",
       "      <td>NaN</td>\n",
       "      <td>NaN</td>\n",
       "      <td>18.535240</td>\n",
       "      <td>1998.965904</td>\n",
       "      <td>NaN</td>\n",
       "      <td>NaN</td>\n",
       "    </tr>\n",
       "    <tr>\n",
       "      <th>std</th>\n",
       "      <td>NaN</td>\n",
       "      <td>NaN</td>\n",
       "      <td>NaN</td>\n",
       "      <td>NaN</td>\n",
       "      <td>151.007077</td>\n",
       "      <td>150.455385</td>\n",
       "      <td>NaN</td>\n",
       "      <td>NaN</td>\n",
       "    </tr>\n",
       "    <tr>\n",
       "      <th>min</th>\n",
       "      <td>NaN</td>\n",
       "      <td>NaN</td>\n",
       "      <td>NaN</td>\n",
       "      <td>NaN</td>\n",
       "      <td>1.000000</td>\n",
       "      <td>0.350877</td>\n",
       "      <td>NaN</td>\n",
       "      <td>NaN</td>\n",
       "    </tr>\n",
       "    <tr>\n",
       "      <th>25%</th>\n",
       "      <td>NaN</td>\n",
       "      <td>NaN</td>\n",
       "      <td>NaN</td>\n",
       "      <td>NaN</td>\n",
       "      <td>5.000000</td>\n",
       "      <td>2009.000000</td>\n",
       "      <td>NaN</td>\n",
       "      <td>NaN</td>\n",
       "    </tr>\n",
       "    <tr>\n",
       "      <th>50%</th>\n",
       "      <td>NaN</td>\n",
       "      <td>NaN</td>\n",
       "      <td>NaN</td>\n",
       "      <td>NaN</td>\n",
       "      <td>7.000000</td>\n",
       "      <td>2010.000000</td>\n",
       "      <td>NaN</td>\n",
       "      <td>NaN</td>\n",
       "    </tr>\n",
       "    <tr>\n",
       "      <th>75%</th>\n",
       "      <td>NaN</td>\n",
       "      <td>NaN</td>\n",
       "      <td>NaN</td>\n",
       "      <td>NaN</td>\n",
       "      <td>9.000000</td>\n",
       "      <td>2012.000000</td>\n",
       "      <td>NaN</td>\n",
       "      <td>NaN</td>\n",
       "    </tr>\n",
       "    <tr>\n",
       "      <th>max</th>\n",
       "      <td>NaN</td>\n",
       "      <td>NaN</td>\n",
       "      <td>NaN</td>\n",
       "      <td>NaN</td>\n",
       "      <td>2009.000000</td>\n",
       "      <td>2014.000000</td>\n",
       "      <td>NaN</td>\n",
       "      <td>NaN</td>\n",
       "    </tr>\n",
       "  </tbody>\n",
       "</table>\n",
       "</div>"
      ],
      "text/plain": [
       "       ADM0_NAME         ADM1_NAME        ADM2_NAME         Income_Category  \\\n",
       "count       4370              4022              444                    4349   \n",
       "unique        32               363               68                      27   \n",
       "top      Senegal  $South/Amajyepfo  Lanao Del Norte  Labor - Salary/Regular   \n",
       "freq         256                54               12                     370   \n",
       "mean         NaN               NaN              NaN                     NaN   \n",
       "std          NaN               NaN              NaN                     NaN   \n",
       "min          NaN               NaN              NaN                     NaN   \n",
       "25%          NaN               NaN              NaN                     NaN   \n",
       "50%          NaN               NaN              NaN                     NaN   \n",
       "75%          NaN               NaN              NaN                     NaN   \n",
       "max          NaN               NaN              NaN                     NaN   \n",
       "\n",
       "        Income_Month  Income_Year IncomeValue  \\\n",
       "count    4370.000000  4370.000000        4370   \n",
       "unique           NaN          NaN        3744   \n",
       "top              NaN          NaN    Baseline   \n",
       "freq             NaN          NaN          25   \n",
       "mean       18.535240  1998.965904         NaN   \n",
       "std       151.007077   150.455385         NaN   \n",
       "min         1.000000     0.350877         NaN   \n",
       "25%         5.000000  2009.000000         NaN   \n",
       "50%         7.000000  2010.000000         NaN   \n",
       "75%         9.000000  2012.000000         NaN   \n",
       "max      2009.000000  2014.000000         NaN   \n",
       "\n",
       "                                        Income_DataSource  \n",
       "count                                                4345  \n",
       "unique                                                 32  \n",
       "top     WFP VAM Analyse Globale de la Vulnerabilite, d...  \n",
       "freq                                                  256  \n",
       "mean                                                  NaN  \n",
       "std                                                   NaN  \n",
       "min                                                   NaN  \n",
       "25%                                                   NaN  \n",
       "50%                                                   NaN  \n",
       "75%                                                   NaN  \n",
       "max                                                   NaN  "
      ]
     },
     "execution_count": 7,
     "metadata": {},
     "output_type": "execute_result"
    }
   ],
   "source": [
    "df.describe(include='all')"
   ]
  },
  {
   "cell_type": "code",
   "execution_count": 8,
   "metadata": {
    "colab": {
     "base_uri": "https://localhost:8080/"
    },
    "id": "E421Y3jgZ0h4",
    "outputId": "5cedb476-f3c6-4461-a232-e61753c7fcd6"
   },
   "outputs": [
    {
     "data": {
      "text/plain": [
       "Index(['ADM0_NAME', 'ADM1_NAME', 'ADM2_NAME', 'Income_Category',\n",
       "       'Income_Month', 'Income_Year', 'IncomeValue', 'Income_DataSource'],\n",
       "      dtype='object')"
      ]
     },
     "execution_count": 8,
     "metadata": {},
     "output_type": "execute_result"
    }
   ],
   "source": [
    "df.columns"
   ]
  },
  {
   "cell_type": "code",
   "execution_count": 9,
   "metadata": {
    "colab": {
     "base_uri": "https://localhost:8080/"
    },
    "id": "FcfclA7XZ0kq",
    "outputId": "d9d7204f-d796-4e3e-bf1d-5701be5c0dee"
   },
   "outputs": [
    {
     "data": {
      "text/plain": [
       "ADM0_NAME             object\n",
       "ADM1_NAME             object\n",
       "ADM2_NAME             object\n",
       "Income_Category       object\n",
       "Income_Month           int64\n",
       "Income_Year          float64\n",
       "IncomeValue           object\n",
       "Income_DataSource     object\n",
       "dtype: object"
      ]
     },
     "execution_count": 9,
     "metadata": {},
     "output_type": "execute_result"
    }
   ],
   "source": [
    "df.dtypes"
   ]
  },
  {
   "cell_type": "code",
   "execution_count": 10,
   "metadata": {
    "colab": {
     "base_uri": "https://localhost:8080/"
    },
    "id": "d_sBP4M5Z0nR",
    "outputId": "86101353-4da3-4adf-c185-e6a6209183d0"
   },
   "outputs": [
    {
     "data": {
      "text/plain": [
       "ADM0_NAME               0\n",
       "ADM1_NAME             348\n",
       "ADM2_NAME            3926\n",
       "Income_Category        21\n",
       "Income_Month            0\n",
       "Income_Year             0\n",
       "IncomeValue             0\n",
       "Income_DataSource      25\n",
       "dtype: int64"
      ]
     },
     "execution_count": 10,
     "metadata": {},
     "output_type": "execute_result"
    }
   ],
   "source": [
    "df.isna().sum()"
   ]
  },
  {
   "cell_type": "code",
   "execution_count": 11,
   "metadata": {
    "id": "wgYjxxBrZ0pp"
   },
   "outputs": [],
   "source": [
    "df['ADM1_NAME'].fillna(\"NAN\",inplace = True)\n",
    "df['ADM2_NAME'].fillna(\"NAN\",inplace = True)\n",
    "df['Income_Category'].fillna(\"NAN\",inplace = True)\n",
    "df['Income_DataSource'].fillna(\"NAN\",inplace = True)"
   ]
  },
  {
   "cell_type": "code",
   "execution_count": 12,
   "metadata": {
    "colab": {
     "base_uri": "https://localhost:8080/"
    },
    "id": "wReAN5JNZ0sm",
    "outputId": "e7c5abd2-ed98-474e-8306-6350c5e02998"
   },
   "outputs": [
    {
     "data": {
      "text/plain": [
       "ADM0_NAME            0\n",
       "ADM1_NAME            0\n",
       "ADM2_NAME            0\n",
       "Income_Category      0\n",
       "Income_Month         0\n",
       "Income_Year          0\n",
       "IncomeValue          0\n",
       "Income_DataSource    0\n",
       "dtype: int64"
      ]
     },
     "execution_count": 12,
     "metadata": {},
     "output_type": "execute_result"
    }
   ],
   "source": [
    "df.isnull().sum()"
   ]
  },
  {
   "cell_type": "code",
   "execution_count": 13,
   "metadata": {
    "colab": {
     "base_uri": "https://localhost:8080/"
    },
    "id": "phrPHCE3Z0vY",
    "outputId": "5b6e151d-82a3-4f66-f299-1064b515a4b7"
   },
   "outputs": [
    {
     "data": {
      "text/plain": [
       "ADM0_NAME              32\n",
       "ADM1_NAME             364\n",
       "ADM2_NAME              69\n",
       "Income_Category        28\n",
       "Income_Month           13\n",
       "Income_Year            31\n",
       "IncomeValue          3744\n",
       "Income_DataSource      33\n",
       "dtype: int64"
      ]
     },
     "execution_count": 13,
     "metadata": {},
     "output_type": "execute_result"
    }
   ],
   "source": [
    "df.nunique()"
   ]
  },
  {
   "cell_type": "code",
   "execution_count": 14,
   "metadata": {
    "colab": {
     "base_uri": "https://localhost:8080/",
     "height": 35
    },
    "id": "TbdDRW3BZ0yL",
    "outputId": "2ac9a1c8-7ebb-48e7-95d9-7e135aa506ac"
   },
   "outputs": [
    {
     "data": {
      "text/plain": [
       "'Baseline'"
      ]
     },
     "execution_count": 14,
     "metadata": {},
     "output_type": "execute_result"
    }
   ],
   "source": [
    "df[\"IncomeValue\"].max()"
   ]
  },
  {
   "cell_type": "code",
   "execution_count": 15,
   "metadata": {
    "colab": {
     "base_uri": "https://localhost:8080/"
    },
    "id": "8estmPi_Z006",
    "outputId": "9c5fd924-656c-4b7d-80b0-4a9fb9f0aa87"
   },
   "outputs": [
    {
     "data": {
      "text/plain": [
       "IncomeValue\n",
       "Baseline       25\n",
       "8.333333333    11\n",
       "0.4            10\n",
       "5              10\n",
       "1.666666667    10\n",
       "               ..\n",
       "1.054650048     1\n",
       "6.448641179     1\n",
       "59.2353754      1\n",
       "5.112851221     1\n",
       "2.077772153     1\n",
       "Name: count, Length: 3744, dtype: int64"
      ]
     },
     "execution_count": 15,
     "metadata": {},
     "output_type": "execute_result"
    }
   ],
   "source": [
    "df['IncomeValue'].value_counts()"
   ]
  },
  {
   "cell_type": "code",
   "execution_count": 16,
   "metadata": {
    "colab": {
     "base_uri": "https://localhost:8080/"
    },
    "id": "s7-v-K9Q7QM_",
    "outputId": "6bbceee8-39e3-4f25-a07f-4119216a54b4"
   },
   "outputs": [
    {
     "data": {
      "text/plain": [
       "0       False\n",
       "1       False\n",
       "2       False\n",
       "3       False\n",
       "4       False\n",
       "        ...  \n",
       "4365    False\n",
       "4366    False\n",
       "4367    False\n",
       "4368    False\n",
       "4369    False\n",
       "Length: 4370, dtype: bool"
      ]
     },
     "execution_count": 16,
     "metadata": {},
     "output_type": "execute_result"
    }
   ],
   "source": [
    "df.duplicated()"
   ]
  },
  {
   "cell_type": "code",
   "execution_count": 17,
   "metadata": {
    "id": "rQfqBXhIcQ7X"
   },
   "outputs": [],
   "source": [
    "df['IncomeValue'] = df['IncomeValue'].replace('Baseline', '0')"
   ]
  },
  {
   "cell_type": "code",
   "execution_count": 18,
   "metadata": {},
   "outputs": [
    {
     "data": {
      "text/plain": [
       "<Axes: xlabel='Income_Month'>"
      ]
     },
     "execution_count": 18,
     "metadata": {},
     "output_type": "execute_result"
    },
    {
     "data": {
      "image/png": "[encoded data removed]",
      "text/plain": [
       "<Figure size 640x480 with 1 Axes>"
      ]
     },
     "metadata": {},
     "output_type": "display_data"
    }
   ],
   "source": [
    "df['Income_Month'].value_counts().plot(kind='bar',color='Red')"
   ]
  },
  {
   "cell_type": "code",
   "execution_count": 19,
   "metadata": {},
   "outputs": [
    {
     "data": {
      "text/plain": [
       "<Axes: >"
      ]
     },
     "execution_count": 19,
     "metadata": {},
     "output_type": "execute_result"
    },
    {
     "data": {
      "image/png": "[encoded data removed]",
      "text/plain": [
       "<Figure size 640x480 with 1 Axes>"
      ]
     },
     "metadata": {},
     "output_type": "display_data"
    }
   ],
   "source": [
    "df.groupby('Income_Month').size().plot(kind='pie', autopct='%.2f')"
   ]
  },
  {
   "cell_type": "code",
   "execution_count": 20,
   "metadata": {
    "colab": {
     "base_uri": "https://localhost:8080/",
     "height": 467
    },
    "id": "VU4sfQJ-gJ0t",
    "outputId": "8cdaffa0-e0fc-42d8-d5f1-7a36ee9b1fb8"
   },
   "outputs": [
    {
     "data": {
      "text/plain": [
       "<Axes: xlabel='Income_Month', ylabel='count'>"
      ]
     },
     "execution_count": 20,
     "metadata": {},
     "output_type": "execute_result"
    },
    {
     "data": {
      "image/png": "[encoded data removed]",
      "text/plain": [
       "<Figure size 640x480 with 1 Axes>"
      ]
     },
     "metadata": {},
     "output_type": "display_data"
    }
   ],
   "source": [
    "sns.countplot(x=\"Income_Month\",data=df)"
   ]
  },
  {
   "cell_type": "code",
   "execution_count": 21,
   "metadata": {
    "colab": {
     "base_uri": "https://localhost:8080/",
     "height": 431
    },
    "id": "ZhY1DbdrgJ7O",
    "outputId": "811b5f49-8457-4288-b435-7d8a40eb419c"
   },
   "outputs": [
    {
     "data": {
      "image/png": "[encoded data removed]",
      "text/plain": [
       "<Figure size 1200x500 with 2 Axes>"
      ]
     },
     "metadata": {},
     "output_type": "display_data"
    }
   ],
   "source": [
    "plt.figure(figsize=(12,5))\n",
    "plt.subplot(131)\n",
    "sns.distplot(df[\"IncomeValue\"],color=\"y\")\n",
    "plt.subplot(132)\n",
    "sns.distplot(df[\"Income_Month\"])\n",
    "plt.show()"
   ]
  },
  {
   "cell_type": "code",
   "execution_count": 22,
   "metadata": {
    "id": "vWZY8w6DnOsG"
   },
   "outputs": [],
   "source": [
    "X = df.drop('Income_Month',axis = 1)\n",
    "y = df['Income_Month']"
   ]
  },
  {
   "cell_type": "code",
   "execution_count": 23,
   "metadata": {
    "id": "9FFbhlxWnVZB"
   },
   "outputs": [],
   "source": [
    "names = X.columns"
   ]
  },
  {
   "cell_type": "code",
   "execution_count": 24,
   "metadata": {
    "id": "O2brJHvy7hJQ"
   },
   "outputs": [],
   "source": [
    "from sklearn.preprocessing import LabelEncoder"
   ]
  },
  {
   "cell_type": "code",
   "execution_count": 25,
   "metadata": {
    "id": "9Nz3b_9A7hMp"
   },
   "outputs": [],
   "source": [
    "le = LabelEncoder()"
   ]
  },
  {
   "cell_type": "code",
   "execution_count": 26,
   "metadata": {
    "colab": {
     "base_uri": "https://localhost:8080/",
     "height": 201
    },
    "id": "kAXhaJST7hXG",
    "outputId": "e3b6d6cd-90e2-441b-fd01-57aa60c023ea"
   },
   "outputs": [
    {
     "data": {
      "text/html": [
       "<div>\n",
       "<style scoped>\n",
       "    .dataframe tbody tr th:only-of-type {\n",
       "        vertical-align: middle;\n",
       "    }\n",
       "\n",
       "    .dataframe tbody tr th {\n",
       "        vertical-align: top;\n",
       "    }\n",
       "\n",
       "    .dataframe thead th {\n",
       "        text-align: right;\n",
       "    }\n",
       "</style>\n",
       "<table border=\"1\" class=\"dataframe\">\n",
       "  <thead>\n",
       "    <tr style=\"text-align: right;\">\n",
       "      <th></th>\n",
       "      <th>ADM0_NAME</th>\n",
       "      <th>ADM1_NAME</th>\n",
       "      <th>ADM2_NAME</th>\n",
       "      <th>Income_Category</th>\n",
       "      <th>Income_Month</th>\n",
       "      <th>Income_Year</th>\n",
       "      <th>IncomeValue</th>\n",
       "      <th>Income_DataSource</th>\n",
       "    </tr>\n",
       "  </thead>\n",
       "  <tbody>\n",
       "    <tr>\n",
       "      <th>0</th>\n",
       "      <td>Armenia</td>\n",
       "      <td>Aragatsotn</td>\n",
       "      <td>NAN</td>\n",
       "      <td>Agro - Food&amp;Cash Crop</td>\n",
       "      <td>8</td>\n",
       "      <td>2009.0</td>\n",
       "      <td>33.59216197</td>\n",
       "      <td>WFP VAM Impact of the Global Financial Crisis ...</td>\n",
       "    </tr>\n",
       "    <tr>\n",
       "      <th>1</th>\n",
       "      <td>Armenia</td>\n",
       "      <td>Aragatsotn</td>\n",
       "      <td>NAN</td>\n",
       "      <td>Asset Sales/Savings/Credit</td>\n",
       "      <td>8</td>\n",
       "      <td>2009.0</td>\n",
       "      <td>0.301407681</td>\n",
       "      <td>WFP VAM Impact of the Global Financial Crisis ...</td>\n",
       "    </tr>\n",
       "  </tbody>\n",
       "</table>\n",
       "</div>"
      ],
      "text/plain": [
       "  ADM0_NAME   ADM1_NAME ADM2_NAME             Income_Category  Income_Month  \\\n",
       "0   Armenia  Aragatsotn       NAN       Agro - Food&Cash Crop             8   \n",
       "1   Armenia  Aragatsotn       NAN  Asset Sales/Savings/Credit             8   \n",
       "\n",
       "   Income_Year  IncomeValue                                  Income_DataSource  \n",
       "0       2009.0  33.59216197  WFP VAM Impact of the Global Financial Crisis ...  \n",
       "1       2009.0  0.301407681  WFP VAM Impact of the Global Financial Crisis ...  "
      ]
     },
     "execution_count": 26,
     "metadata": {},
     "output_type": "execute_result"
    }
   ],
   "source": [
    "df.head(2)"
   ]
  },
  {
   "cell_type": "code",
   "execution_count": 27,
   "metadata": {
    "id": "HtD_OhIc-eQ5"
   },
   "outputs": [],
   "source": [
    "df['ADM0_NAME'] = le.fit_transform(df['ADM0_NAME'])\n",
    "df['ADM1_NAME'] = le.fit_transform(df['ADM1_NAME'])\n",
    "df['ADM2_NAME'] = le.fit_transform(df['ADM2_NAME'])\n",
    "df['Income_Category'] = le.fit_transform(df['Income_Category'])\n",
    "df['Income_DataSource'] = le.fit_transform(df['Income_DataSource'])"
   ]
  },
  {
   "cell_type": "code",
   "execution_count": 28,
   "metadata": {
    "colab": {
     "base_uri": "https://localhost:8080/",
     "height": 226
    },
    "id": "Gci7q6c_-eUY",
    "outputId": "5f2ce879-c879-4be3-c742-0a5d16bf46f7"
   },
   "outputs": [
    {
     "data": {
      "text/html": [
       "<div>\n",
       "<style scoped>\n",
       "    .dataframe tbody tr th:only-of-type {\n",
       "        vertical-align: middle;\n",
       "    }\n",
       "\n",
       "    .dataframe tbody tr th {\n",
       "        vertical-align: top;\n",
       "    }\n",
       "\n",
       "    .dataframe thead th {\n",
       "        text-align: right;\n",
       "    }\n",
       "</style>\n",
       "<table border=\"1\" class=\"dataframe\">\n",
       "  <thead>\n",
       "    <tr style=\"text-align: right;\">\n",
       "      <th></th>\n",
       "      <th>ADM0_NAME</th>\n",
       "      <th>ADM1_NAME</th>\n",
       "      <th>ADM2_NAME</th>\n",
       "      <th>Income_Category</th>\n",
       "      <th>Income_Month</th>\n",
       "      <th>Income_Year</th>\n",
       "      <th>IncomeValue</th>\n",
       "      <th>Income_DataSource</th>\n",
       "    </tr>\n",
       "  </thead>\n",
       "  <tbody>\n",
       "    <tr>\n",
       "      <th>0</th>\n",
       "      <td>0</td>\n",
       "      <td>61</td>\n",
       "      <td>58</td>\n",
       "      <td>5</td>\n",
       "      <td>8</td>\n",
       "      <td>2009.0</td>\n",
       "      <td>33.59216197</td>\n",
       "      <td>27</td>\n",
       "    </tr>\n",
       "    <tr>\n",
       "      <th>1</th>\n",
       "      <td>0</td>\n",
       "      <td>61</td>\n",
       "      <td>58</td>\n",
       "      <td>9</td>\n",
       "      <td>8</td>\n",
       "      <td>2009.0</td>\n",
       "      <td>0.301407681</td>\n",
       "      <td>27</td>\n",
       "    </tr>\n",
       "    <tr>\n",
       "      <th>2</th>\n",
       "      <td>0</td>\n",
       "      <td>61</td>\n",
       "      <td>58</td>\n",
       "      <td>10</td>\n",
       "      <td>8</td>\n",
       "      <td>2009.0</td>\n",
       "      <td>3.810975935</td>\n",
       "      <td>27</td>\n",
       "    </tr>\n",
       "    <tr>\n",
       "      <th>3</th>\n",
       "      <td>0</td>\n",
       "      <td>61</td>\n",
       "      <td>58</td>\n",
       "      <td>14</td>\n",
       "      <td>8</td>\n",
       "      <td>2009.0</td>\n",
       "      <td>9.058316068</td>\n",
       "      <td>27</td>\n",
       "    </tr>\n",
       "    <tr>\n",
       "      <th>4</th>\n",
       "      <td>0</td>\n",
       "      <td>61</td>\n",
       "      <td>58</td>\n",
       "      <td>16</td>\n",
       "      <td>8</td>\n",
       "      <td>2009.0</td>\n",
       "      <td>10.47505425</td>\n",
       "      <td>27</td>\n",
       "    </tr>\n",
       "  </tbody>\n",
       "</table>\n",
       "</div>"
      ],
      "text/plain": [
       "   ADM0_NAME  ADM1_NAME  ADM2_NAME  Income_Category  Income_Month  \\\n",
       "0          0         61         58                5             8   \n",
       "1          0         61         58                9             8   \n",
       "2          0         61         58               10             8   \n",
       "3          0         61         58               14             8   \n",
       "4          0         61         58               16             8   \n",
       "\n",
       "   Income_Year  IncomeValue  Income_DataSource  \n",
       "0       2009.0  33.59216197                 27  \n",
       "1       2009.0  0.301407681                 27  \n",
       "2       2009.0  3.810975935                 27  \n",
       "3       2009.0  9.058316068                 27  \n",
       "4       2009.0  10.47505425                 27  "
      ]
     },
     "execution_count": 28,
     "metadata": {},
     "output_type": "execute_result"
    }
   ],
   "source": [
    "df.head()"
   ]
  },
  {
   "cell_type": "code",
   "execution_count": 29,
   "metadata": {
    "colab": {
     "base_uri": "https://localhost:8080/",
     "height": 320
    },
    "id": "SgUt-Re81g-B",
    "outputId": "3963ee09-ac03-4180-f03d-d708259c8eb9"
   },
   "outputs": [
    {
     "data": {
      "text/html": [
       "<div>\n",
       "<style scoped>\n",
       "    .dataframe tbody tr th:only-of-type {\n",
       "        vertical-align: middle;\n",
       "    }\n",
       "\n",
       "    .dataframe tbody tr th {\n",
       "        vertical-align: top;\n",
       "    }\n",
       "\n",
       "    .dataframe thead th {\n",
       "        text-align: right;\n",
       "    }\n",
       "</style>\n",
       "<table border=\"1\" class=\"dataframe\">\n",
       "  <thead>\n",
       "    <tr style=\"text-align: right;\">\n",
       "      <th></th>\n",
       "      <th>ADM0_NAME</th>\n",
       "      <th>ADM1_NAME</th>\n",
       "      <th>ADM2_NAME</th>\n",
       "      <th>Income_Category</th>\n",
       "      <th>Income_Month</th>\n",
       "      <th>Income_Year</th>\n",
       "      <th>IncomeValue</th>\n",
       "      <th>Income_DataSource</th>\n",
       "    </tr>\n",
       "  </thead>\n",
       "  <tbody>\n",
       "    <tr>\n",
       "      <th>ADM0_NAME</th>\n",
       "      <td>1.000000</td>\n",
       "      <td>-0.046389</td>\n",
       "      <td>-0.238465</td>\n",
       "      <td>-0.021154</td>\n",
       "      <td>-0.041859</td>\n",
       "      <td>0.048376</td>\n",
       "      <td>0.029358</td>\n",
       "      <td>0.438866</td>\n",
       "    </tr>\n",
       "    <tr>\n",
       "      <th>ADM1_NAME</th>\n",
       "      <td>-0.046389</td>\n",
       "      <td>1.000000</td>\n",
       "      <td>0.257379</td>\n",
       "      <td>0.025715</td>\n",
       "      <td>0.072995</td>\n",
       "      <td>-0.074312</td>\n",
       "      <td>-0.014103</td>\n",
       "      <td>-0.097379</td>\n",
       "    </tr>\n",
       "    <tr>\n",
       "      <th>ADM2_NAME</th>\n",
       "      <td>-0.238465</td>\n",
       "      <td>0.257379</td>\n",
       "      <td>1.000000</td>\n",
       "      <td>0.073301</td>\n",
       "      <td>-0.095305</td>\n",
       "      <td>0.097004</td>\n",
       "      <td>-0.058649</td>\n",
       "      <td>-0.056406</td>\n",
       "    </tr>\n",
       "    <tr>\n",
       "      <th>Income_Category</th>\n",
       "      <td>-0.021154</td>\n",
       "      <td>0.025715</td>\n",
       "      <td>0.073301</td>\n",
       "      <td>1.000000</td>\n",
       "      <td>0.030272</td>\n",
       "      <td>-0.030128</td>\n",
       "      <td>-0.322337</td>\n",
       "      <td>-0.004240</td>\n",
       "    </tr>\n",
       "    <tr>\n",
       "      <th>Income_Month</th>\n",
       "      <td>-0.041859</td>\n",
       "      <td>0.072995</td>\n",
       "      <td>-0.095305</td>\n",
       "      <td>0.030272</td>\n",
       "      <td>1.000000</td>\n",
       "      <td>-0.999696</td>\n",
       "      <td>-0.052194</td>\n",
       "      <td>-0.122326</td>\n",
       "    </tr>\n",
       "    <tr>\n",
       "      <th>Income_Year</th>\n",
       "      <td>0.048376</td>\n",
       "      <td>-0.074312</td>\n",
       "      <td>0.097004</td>\n",
       "      <td>-0.030128</td>\n",
       "      <td>-0.999696</td>\n",
       "      <td>1.000000</td>\n",
       "      <td>0.051430</td>\n",
       "      <td>0.126067</td>\n",
       "    </tr>\n",
       "    <tr>\n",
       "      <th>IncomeValue</th>\n",
       "      <td>0.029358</td>\n",
       "      <td>-0.014103</td>\n",
       "      <td>-0.058649</td>\n",
       "      <td>-0.322337</td>\n",
       "      <td>-0.052194</td>\n",
       "      <td>0.051430</td>\n",
       "      <td>1.000000</td>\n",
       "      <td>0.040824</td>\n",
       "    </tr>\n",
       "    <tr>\n",
       "      <th>Income_DataSource</th>\n",
       "      <td>0.438866</td>\n",
       "      <td>-0.097379</td>\n",
       "      <td>-0.056406</td>\n",
       "      <td>-0.004240</td>\n",
       "      <td>-0.122326</td>\n",
       "      <td>0.126067</td>\n",
       "      <td>0.040824</td>\n",
       "      <td>1.000000</td>\n",
       "    </tr>\n",
       "  </tbody>\n",
       "</table>\n",
       "</div>"
      ],
      "text/plain": [
       "                   ADM0_NAME  ADM1_NAME  ADM2_NAME  Income_Category  \\\n",
       "ADM0_NAME           1.000000  -0.046389  -0.238465        -0.021154   \n",
       "ADM1_NAME          -0.046389   1.000000   0.257379         0.025715   \n",
       "ADM2_NAME          -0.238465   0.257379   1.000000         0.073301   \n",
       "Income_Category    -0.021154   0.025715   0.073301         1.000000   \n",
       "Income_Month       -0.041859   0.072995  -0.095305         0.030272   \n",
       "Income_Year         0.048376  -0.074312   0.097004        -0.030128   \n",
       "IncomeValue         0.029358  -0.014103  -0.058649        -0.322337   \n",
       "Income_DataSource   0.438866  -0.097379  -0.056406        -0.004240   \n",
       "\n",
       "                   Income_Month  Income_Year  IncomeValue  Income_DataSource  \n",
       "ADM0_NAME             -0.041859     0.048376     0.029358           0.438866  \n",
       "ADM1_NAME              0.072995    -0.074312    -0.014103          -0.097379  \n",
       "ADM2_NAME             -0.095305     0.097004    -0.058649          -0.056406  \n",
       "Income_Category        0.030272    -0.030128    -0.322337          -0.004240  \n",
       "Income_Month           1.000000    -0.999696    -0.052194          -0.122326  \n",
       "Income_Year           -0.999696     1.000000     0.051430           0.126067  \n",
       "IncomeValue           -0.052194     0.051430     1.000000           0.040824  \n",
       "Income_DataSource     -0.122326     0.126067     0.040824           1.000000  "
      ]
     },
     "execution_count": 29,
     "metadata": {},
     "output_type": "execute_result"
    }
   ],
   "source": [
    "df.corr()"
   ]
  },
  {
   "cell_type": "code",
   "execution_count": 30,
   "metadata": {
    "colab": {
     "base_uri": "https://localhost:8080/",
     "height": 581
    },
    "id": "8GApYpRByaGF",
    "outputId": "aa527228-40da-461d-a5a7-7928020ca3b0"
   },
   "outputs": [
    {
     "data": {
      "text/plain": [
       "<Axes: >"
      ]
     },
     "execution_count": 30,
     "metadata": {},
     "output_type": "execute_result"
    },
    {
     "data": {
      "image/png": "[encoded data removed]",
      "text/plain": [
       "<Figure size 1000x800 with 2 Axes>"
      ]
     },
     "metadata": {},
     "output_type": "display_data"
    }
   ],
   "source": [
    "fig, ax = plt.subplots(figsize=(10, 8))\n",
    "sns.heatmap(df.corr(),annot=True, fmt=\"2f\", ax=ax)"
   ]
  },
  {
   "cell_type": "code",
   "execution_count": 31,
   "metadata": {
    "colab": {
     "base_uri": "https://localhost:8080/",
     "height": 226
    },
    "id": "22soYY_j_dNt",
    "outputId": "73aba336-15fc-41da-8e2f-706bbcc93353"
   },
   "outputs": [
    {
     "data": {
      "text/html": [
       "<div>\n",
       "<style scoped>\n",
       "    .dataframe tbody tr th:only-of-type {\n",
       "        vertical-align: middle;\n",
       "    }\n",
       "\n",
       "    .dataframe tbody tr th {\n",
       "        vertical-align: top;\n",
       "    }\n",
       "\n",
       "    .dataframe thead th {\n",
       "        text-align: right;\n",
       "    }\n",
       "</style>\n",
       "<table border=\"1\" class=\"dataframe\">\n",
       "  <thead>\n",
       "    <tr style=\"text-align: right;\">\n",
       "      <th></th>\n",
       "      <th>ADM0_NAME</th>\n",
       "      <th>ADM1_NAME</th>\n",
       "      <th>ADM2_NAME</th>\n",
       "      <th>Income_Category</th>\n",
       "      <th>Income_Month</th>\n",
       "      <th>Income_Year</th>\n",
       "      <th>IncomeValue</th>\n",
       "      <th>Income_DataSource</th>\n",
       "    </tr>\n",
       "  </thead>\n",
       "  <tbody>\n",
       "    <tr>\n",
       "      <th>4365</th>\n",
       "      <td>31</td>\n",
       "      <td>246</td>\n",
       "      <td>58</td>\n",
       "      <td>18</td>\n",
       "      <td>12</td>\n",
       "      <td>2011.0</td>\n",
       "      <td>33.51018565</td>\n",
       "      <td>31</td>\n",
       "    </tr>\n",
       "    <tr>\n",
       "      <th>4366</th>\n",
       "      <td>31</td>\n",
       "      <td>246</td>\n",
       "      <td>58</td>\n",
       "      <td>21</td>\n",
       "      <td>12</td>\n",
       "      <td>2011.0</td>\n",
       "      <td>2.537680957</td>\n",
       "      <td>31</td>\n",
       "    </tr>\n",
       "    <tr>\n",
       "      <th>4367</th>\n",
       "      <td>31</td>\n",
       "      <td>246</td>\n",
       "      <td>58</td>\n",
       "      <td>22</td>\n",
       "      <td>12</td>\n",
       "      <td>2011.0</td>\n",
       "      <td>2.047047847</td>\n",
       "      <td>31</td>\n",
       "    </tr>\n",
       "    <tr>\n",
       "      <th>4368</th>\n",
       "      <td>31</td>\n",
       "      <td>246</td>\n",
       "      <td>58</td>\n",
       "      <td>23</td>\n",
       "      <td>12</td>\n",
       "      <td>2011.0</td>\n",
       "      <td>8.87528672</td>\n",
       "      <td>31</td>\n",
       "    </tr>\n",
       "    <tr>\n",
       "      <th>4369</th>\n",
       "      <td>31</td>\n",
       "      <td>246</td>\n",
       "      <td>58</td>\n",
       "      <td>27</td>\n",
       "      <td>12</td>\n",
       "      <td>2011.0</td>\n",
       "      <td>2.077772153</td>\n",
       "      <td>31</td>\n",
       "    </tr>\n",
       "  </tbody>\n",
       "</table>\n",
       "</div>"
      ],
      "text/plain": [
       "      ADM0_NAME  ADM1_NAME  ADM2_NAME  Income_Category  Income_Month  \\\n",
       "4365         31        246         58               18            12   \n",
       "4366         31        246         58               21            12   \n",
       "4367         31        246         58               22            12   \n",
       "4368         31        246         58               23            12   \n",
       "4369         31        246         58               27            12   \n",
       "\n",
       "      Income_Year  IncomeValue  Income_DataSource  \n",
       "4365       2011.0  33.51018565                 31  \n",
       "4366       2011.0  2.537680957                 31  \n",
       "4367       2011.0  2.047047847                 31  \n",
       "4368       2011.0   8.87528672                 31  \n",
       "4369       2011.0  2.077772153                 31  "
      ]
     },
     "execution_count": 31,
     "metadata": {},
     "output_type": "execute_result"
    }
   ],
   "source": [
    "df.tail()"
   ]
  },
  {
   "cell_type": "code",
   "execution_count": 32,
   "metadata": {
    "colab": {
     "base_uri": "https://localhost:8080/",
     "height": 226
    },
    "id": "9jPKX6aR3swP",
    "outputId": "3b6ab2cb-ca12-49f4-8c92-0d94e53e6288"
   },
   "outputs": [
    {
     "data": {
      "text/html": [
       "<div>\n",
       "<style scoped>\n",
       "    .dataframe tbody tr th:only-of-type {\n",
       "        vertical-align: middle;\n",
       "    }\n",
       "\n",
       "    .dataframe tbody tr th {\n",
       "        vertical-align: top;\n",
       "    }\n",
       "\n",
       "    .dataframe thead th {\n",
       "        text-align: right;\n",
       "    }\n",
       "</style>\n",
       "<table border=\"1\" class=\"dataframe\">\n",
       "  <thead>\n",
       "    <tr style=\"text-align: right;\">\n",
       "      <th></th>\n",
       "      <th>ADM0_NAME</th>\n",
       "      <th>ADM1_NAME</th>\n",
       "      <th>ADM2_NAME</th>\n",
       "      <th>Income_Category</th>\n",
       "      <th>Income_Month</th>\n",
       "      <th>Income_Year</th>\n",
       "      <th>IncomeValue</th>\n",
       "      <th>Income_DataSource</th>\n",
       "    </tr>\n",
       "  </thead>\n",
       "  <tbody>\n",
       "    <tr>\n",
       "      <th>0</th>\n",
       "      <td>0</td>\n",
       "      <td>61</td>\n",
       "      <td>58</td>\n",
       "      <td>5</td>\n",
       "      <td>8</td>\n",
       "      <td>2009.0</td>\n",
       "      <td>33.59216197</td>\n",
       "      <td>27</td>\n",
       "    </tr>\n",
       "    <tr>\n",
       "      <th>1</th>\n",
       "      <td>0</td>\n",
       "      <td>61</td>\n",
       "      <td>58</td>\n",
       "      <td>9</td>\n",
       "      <td>8</td>\n",
       "      <td>2009.0</td>\n",
       "      <td>0.301407681</td>\n",
       "      <td>27</td>\n",
       "    </tr>\n",
       "    <tr>\n",
       "      <th>2</th>\n",
       "      <td>0</td>\n",
       "      <td>61</td>\n",
       "      <td>58</td>\n",
       "      <td>10</td>\n",
       "      <td>8</td>\n",
       "      <td>2009.0</td>\n",
       "      <td>3.810975935</td>\n",
       "      <td>27</td>\n",
       "    </tr>\n",
       "    <tr>\n",
       "      <th>3</th>\n",
       "      <td>0</td>\n",
       "      <td>61</td>\n",
       "      <td>58</td>\n",
       "      <td>14</td>\n",
       "      <td>8</td>\n",
       "      <td>2009.0</td>\n",
       "      <td>9.058316068</td>\n",
       "      <td>27</td>\n",
       "    </tr>\n",
       "    <tr>\n",
       "      <th>4</th>\n",
       "      <td>0</td>\n",
       "      <td>61</td>\n",
       "      <td>58</td>\n",
       "      <td>16</td>\n",
       "      <td>8</td>\n",
       "      <td>2009.0</td>\n",
       "      <td>10.47505425</td>\n",
       "      <td>27</td>\n",
       "    </tr>\n",
       "  </tbody>\n",
       "</table>\n",
       "</div>"
      ],
      "text/plain": [
       "   ADM0_NAME  ADM1_NAME  ADM2_NAME  Income_Category  Income_Month  \\\n",
       "0          0         61         58                5             8   \n",
       "1          0         61         58                9             8   \n",
       "2          0         61         58               10             8   \n",
       "3          0         61         58               14             8   \n",
       "4          0         61         58               16             8   \n",
       "\n",
       "   Income_Year  IncomeValue  Income_DataSource  \n",
       "0       2009.0  33.59216197                 27  \n",
       "1       2009.0  0.301407681                 27  \n",
       "2       2009.0  3.810975935                 27  \n",
       "3       2009.0  9.058316068                 27  \n",
       "4       2009.0  10.47505425                 27  "
      ]
     },
     "execution_count": 32,
     "metadata": {},
     "output_type": "execute_result"
    }
   ],
   "source": [
    "df.head()"
   ]
  },
  {
   "cell_type": "code",
   "execution_count": 33,
   "metadata": {
    "id": "rQXVwsqD_2tb"
   },
   "outputs": [],
   "source": [
    "y = df['Income_Month']\n",
    "x = df.drop(columns = ['Income_Month'])"
   ]
  },
  {
   "cell_type": "code",
   "execution_count": 34,
   "metadata": {
    "id": "J-rJA-VyACEq"
   },
   "outputs": [],
   "source": [
    "# scaling\n",
    "from sklearn.preprocessing import StandardScaler"
   ]
  },
  {
   "cell_type": "code",
   "execution_count": 35,
   "metadata": {
    "id": "_VLbn3ZpACH4"
   },
   "outputs": [],
   "source": [
    "scale = StandardScaler()"
   ]
  },
  {
   "cell_type": "code",
   "execution_count": 36,
   "metadata": {
    "id": "dTk3zmkpACKm"
   },
   "outputs": [],
   "source": [
    "names = x.columns"
   ]
  },
  {
   "cell_type": "code",
   "execution_count": 37,
   "metadata": {
    "id": "IsLw3_PTACQr"
   },
   "outputs": [],
   "source": [
    "x = scale.fit_transform(x)"
   ]
  },
  {
   "cell_type": "code",
   "execution_count": 38,
   "metadata": {
    "colab": {
     "base_uri": "https://localhost:8080/"
    },
    "id": "F7JdxeNmBJfP",
    "outputId": "4ed5c2b3-93ac-4417-a328-4acf3117edff"
   },
   "outputs": [
    {
     "data": {
      "text/plain": [
       "array([[-1.67842658, -1.22371462,  0.25089404, ...,  0.06669914,\n",
       "         1.61776967,  1.11040049],\n",
       "       [-1.67842658, -1.22371462,  0.25089404, ...,  0.06669914,\n",
       "        -0.66727152,  1.11040049],\n",
       "       [-1.67842658, -1.22371462,  0.25089404, ...,  0.06669914,\n",
       "        -0.42637857,  1.11040049],\n",
       "       ...,\n",
       "       [ 1.58495984,  0.59909236,  0.25089404, ...,  0.07999364,\n",
       "        -0.54745267,  1.52319053],\n",
       "       [ 1.58495984,  0.59909236,  0.25089404, ...,  0.07999364,\n",
       "        -0.07876978,  1.52319053],\n",
       "       [ 1.58495984,  0.59909236,  0.25089404, ...,  0.07999364,\n",
       "        -0.54534379,  1.52319053]])"
      ]
     },
     "execution_count": 38,
     "metadata": {},
     "output_type": "execute_result"
    }
   ],
   "source": [
    "x"
   ]
  },
  {
   "cell_type": "code",
   "execution_count": 39,
   "metadata": {
    "id": "KAGgUydoBJiE"
   },
   "outputs": [],
   "source": [
    "x = pd.DataFrame(x,columns = names)"
   ]
  },
  {
   "cell_type": "code",
   "execution_count": 40,
   "metadata": {
    "colab": {
     "base_uri": "https://localhost:8080/",
     "height": 226
    },
    "id": "bUZL-iDoBJk3",
    "outputId": "d0b1f596-5567-4ea9-99a2-c29c34e5ca79"
   },
   "outputs": [
    {
     "data": {
      "text/html": [
       "<div>\n",
       "<style scoped>\n",
       "    .dataframe tbody tr th:only-of-type {\n",
       "        vertical-align: middle;\n",
       "    }\n",
       "\n",
       "    .dataframe tbody tr th {\n",
       "        vertical-align: top;\n",
       "    }\n",
       "\n",
       "    .dataframe thead th {\n",
       "        text-align: right;\n",
       "    }\n",
       "</style>\n",
       "<table border=\"1\" class=\"dataframe\">\n",
       "  <thead>\n",
       "    <tr style=\"text-align: right;\">\n",
       "      <th></th>\n",
       "      <th>ADM0_NAME</th>\n",
       "      <th>ADM1_NAME</th>\n",
       "      <th>ADM2_NAME</th>\n",
       "      <th>Income_Category</th>\n",
       "      <th>Income_Year</th>\n",
       "      <th>IncomeValue</th>\n",
       "      <th>Income_DataSource</th>\n",
       "    </tr>\n",
       "  </thead>\n",
       "  <tbody>\n",
       "    <tr>\n",
       "      <th>0</th>\n",
       "      <td>-1.678427</td>\n",
       "      <td>-1.223715</td>\n",
       "      <td>0.250894</td>\n",
       "      <td>-1.121756</td>\n",
       "      <td>0.066699</td>\n",
       "      <td>1.617770</td>\n",
       "      <td>1.1104</td>\n",
       "    </tr>\n",
       "    <tr>\n",
       "      <th>1</th>\n",
       "      <td>-1.678427</td>\n",
       "      <td>-1.223715</td>\n",
       "      <td>0.250894</td>\n",
       "      <td>-0.607156</td>\n",
       "      <td>0.066699</td>\n",
       "      <td>-0.667272</td>\n",
       "      <td>1.1104</td>\n",
       "    </tr>\n",
       "    <tr>\n",
       "      <th>2</th>\n",
       "      <td>-1.678427</td>\n",
       "      <td>-1.223715</td>\n",
       "      <td>0.250894</td>\n",
       "      <td>-0.478507</td>\n",
       "      <td>0.066699</td>\n",
       "      <td>-0.426379</td>\n",
       "      <td>1.1104</td>\n",
       "    </tr>\n",
       "    <tr>\n",
       "      <th>3</th>\n",
       "      <td>-1.678427</td>\n",
       "      <td>-1.223715</td>\n",
       "      <td>0.250894</td>\n",
       "      <td>0.036093</td>\n",
       "      <td>0.066699</td>\n",
       "      <td>-0.066207</td>\n",
       "      <td>1.1104</td>\n",
       "    </tr>\n",
       "    <tr>\n",
       "      <th>4</th>\n",
       "      <td>-1.678427</td>\n",
       "      <td>-1.223715</td>\n",
       "      <td>0.250894</td>\n",
       "      <td>0.293392</td>\n",
       "      <td>0.066699</td>\n",
       "      <td>0.031037</td>\n",
       "      <td>1.1104</td>\n",
       "    </tr>\n",
       "  </tbody>\n",
       "</table>\n",
       "</div>"
      ],
      "text/plain": [
       "   ADM0_NAME  ADM1_NAME  ADM2_NAME  Income_Category  Income_Year  IncomeValue  \\\n",
       "0  -1.678427  -1.223715   0.250894        -1.121756     0.066699     1.617770   \n",
       "1  -1.678427  -1.223715   0.250894        -0.607156     0.066699    -0.667272   \n",
       "2  -1.678427  -1.223715   0.250894        -0.478507     0.066699    -0.426379   \n",
       "3  -1.678427  -1.223715   0.250894         0.036093     0.066699    -0.066207   \n",
       "4  -1.678427  -1.223715   0.250894         0.293392     0.066699     0.031037   \n",
       "\n",
       "   Income_DataSource  \n",
       "0             1.1104  \n",
       "1             1.1104  \n",
       "2             1.1104  \n",
       "3             1.1104  \n",
       "4             1.1104  "
      ]
     },
     "execution_count": 40,
     "metadata": {},
     "output_type": "execute_result"
    }
   ],
   "source": [
    "x.head()"
   ]
  },
  {
   "cell_type": "code",
   "execution_count": 41,
   "metadata": {
    "id": "krO9eRC_BJnZ"
   },
   "outputs": [],
   "source": [
    "# splitting the data into training and testing\n",
    "from sklearn.model_selection import train_test_split"
   ]
  },
  {
   "cell_type": "code",
   "execution_count": 42,
   "metadata": {
    "id": "m0xL19guBJp4"
   },
   "outputs": [],
   "source": [
    "x_train,x_test,y_train,y_test = train_test_split(x,y,test_size = 0.2)"
   ]
  },
  {
   "cell_type": "code",
   "execution_count": 43,
   "metadata": {
    "colab": {
     "base_uri": "https://localhost:8080/"
    },
    "id": "WLjt1eMZBbP9",
    "outputId": "909afcd0-6da6-4847-bed6-9db792926fd9"
   },
   "outputs": [
    {
     "name": "stdout",
     "output_type": "stream",
     "text": [
      "(3496, 7)\n",
      "(874, 7)\n",
      "(3496,)\n",
      "(874,)\n"
     ]
    }
   ],
   "source": [
    "print(x_train.shape)\n",
    "print(x_test.shape)\n",
    "print(y_train.shape)\n",
    "print(y_test.shape)"
   ]
  },
  {
   "cell_type": "code",
   "execution_count": 44,
   "metadata": {
    "colab": {
     "base_uri": "https://localhost:8080/",
     "height": 226
    },
    "id": "4w4L0YgCBbUX",
    "outputId": "8fb11d2e-e16a-4109-93dd-813b8fb1a897"
   },
   "outputs": [
    {
     "data": {
      "text/html": [
       "<div>\n",
       "<style scoped>\n",
       "    .dataframe tbody tr th:only-of-type {\n",
       "        vertical-align: middle;\n",
       "    }\n",
       "\n",
       "    .dataframe tbody tr th {\n",
       "        vertical-align: top;\n",
       "    }\n",
       "\n",
       "    .dataframe thead th {\n",
       "        text-align: right;\n",
       "    }\n",
       "</style>\n",
       "<table border=\"1\" class=\"dataframe\">\n",
       "  <thead>\n",
       "    <tr style=\"text-align: right;\">\n",
       "      <th></th>\n",
       "      <th>ADM0_NAME</th>\n",
       "      <th>ADM1_NAME</th>\n",
       "      <th>ADM2_NAME</th>\n",
       "      <th>Income_Category</th>\n",
       "      <th>Income_Month</th>\n",
       "      <th>Income_Year</th>\n",
       "      <th>IncomeValue</th>\n",
       "      <th>Income_DataSource</th>\n",
       "    </tr>\n",
       "  </thead>\n",
       "  <tbody>\n",
       "    <tr>\n",
       "      <th>0</th>\n",
       "      <td>0</td>\n",
       "      <td>61</td>\n",
       "      <td>58</td>\n",
       "      <td>5</td>\n",
       "      <td>8</td>\n",
       "      <td>2009.0</td>\n",
       "      <td>33.59216197</td>\n",
       "      <td>27</td>\n",
       "    </tr>\n",
       "    <tr>\n",
       "      <th>1</th>\n",
       "      <td>0</td>\n",
       "      <td>61</td>\n",
       "      <td>58</td>\n",
       "      <td>9</td>\n",
       "      <td>8</td>\n",
       "      <td>2009.0</td>\n",
       "      <td>0.301407681</td>\n",
       "      <td>27</td>\n",
       "    </tr>\n",
       "    <tr>\n",
       "      <th>2</th>\n",
       "      <td>0</td>\n",
       "      <td>61</td>\n",
       "      <td>58</td>\n",
       "      <td>10</td>\n",
       "      <td>8</td>\n",
       "      <td>2009.0</td>\n",
       "      <td>3.810975935</td>\n",
       "      <td>27</td>\n",
       "    </tr>\n",
       "    <tr>\n",
       "      <th>3</th>\n",
       "      <td>0</td>\n",
       "      <td>61</td>\n",
       "      <td>58</td>\n",
       "      <td>14</td>\n",
       "      <td>8</td>\n",
       "      <td>2009.0</td>\n",
       "      <td>9.058316068</td>\n",
       "      <td>27</td>\n",
       "    </tr>\n",
       "    <tr>\n",
       "      <th>4</th>\n",
       "      <td>0</td>\n",
       "      <td>61</td>\n",
       "      <td>58</td>\n",
       "      <td>16</td>\n",
       "      <td>8</td>\n",
       "      <td>2009.0</td>\n",
       "      <td>10.47505425</td>\n",
       "      <td>27</td>\n",
       "    </tr>\n",
       "  </tbody>\n",
       "</table>\n",
       "</div>"
      ],
      "text/plain": [
       "   ADM0_NAME  ADM1_NAME  ADM2_NAME  Income_Category  Income_Month  \\\n",
       "0          0         61         58                5             8   \n",
       "1          0         61         58                9             8   \n",
       "2          0         61         58               10             8   \n",
       "3          0         61         58               14             8   \n",
       "4          0         61         58               16             8   \n",
       "\n",
       "   Income_Year  IncomeValue  Income_DataSource  \n",
       "0       2009.0  33.59216197                 27  \n",
       "1       2009.0  0.301407681                 27  \n",
       "2       2009.0  3.810975935                 27  \n",
       "3       2009.0  9.058316068                 27  \n",
       "4       2009.0  10.47505425                 27  "
      ]
     },
     "execution_count": 44,
     "metadata": {},
     "output_type": "execute_result"
    }
   ],
   "source": [
    "df.head()"
   ]
  },
  {
   "cell_type": "code",
   "execution_count": 45,
   "metadata": {
    "id": "KBOmGQFHBbYE"
   },
   "outputs": [],
   "source": [
    "df['Income_Month'] = np.where(df['Income_Month']==\"3+\",4,df['Income_Month'])"
   ]
  },
  {
   "cell_type": "code",
   "execution_count": 46,
   "metadata": {
    "id": "HIVYMSscVG0T"
   },
   "outputs": [],
   "source": [
    "from sklearn.preprocessing import LabelEncoder\n",
    "le = LabelEncoder()\n",
    "df['Income_Month'] = le.fit_transform(df['Income_Month'])"
   ]
  },
  {
   "cell_type": "code",
   "execution_count": 47,
   "metadata": {
    "id": "qdboBnKnVG_R"
   },
   "outputs": [],
   "source": [
    "y = df['Income_Month']\n",
    "x = df.drop(columns = ['Income_Month'])"
   ]
  },
  {
   "cell_type": "code",
   "execution_count": 48,
   "metadata": {
    "id": "wR04b75BVHDH"
   },
   "outputs": [],
   "source": [
    "names = x.columns"
   ]
  },
  {
   "cell_type": "code",
   "execution_count": 49,
   "metadata": {
    "id": "-byr5BiFVHHT"
   },
   "outputs": [],
   "source": [
    "x = scale.fit_transform(x)"
   ]
  },
  {
   "cell_type": "code",
   "execution_count": 50,
   "metadata": {
    "id": "vf8zhLTgVHJ2"
   },
   "outputs": [],
   "source": [
    "x_train,x_test,y_train,y_test= train_test_split(x,y,test_size = 0.2)"
   ]
  },
  {
   "cell_type": "code",
   "execution_count": 51,
   "metadata": {
    "id": "lzA0DfQrVHOz"
   },
   "outputs": [],
   "source": [
    "from sklearn.linear_model import LinearRegression\n",
    "from sklearn.neighbors import KNeighborsRegressor\n",
    "from sklearn.tree import DecisionTreeRegressor\n",
    "from sklearn.ensemble import RandomForestRegressor"
   ]
  },
  {
   "cell_type": "code",
   "execution_count": 52,
   "metadata": {
    "id": "x-eEtQ1gVHSQ"
   },
   "outputs": [],
   "source": [
    "# Instantiate regression models\n",
    "linear_regression = LinearRegression()\n",
    "random_forest_regressor = RandomForestRegressor()\n",
    "adaboost_regressor = AdaBoostRegressor()\n",
    "gradient_boosting = GradientBoostingRegressor()\n",
    "knn_regressor = KNeighborsRegressor()"
   ]
  },
  {
   "cell_type": "code",
   "execution_count": 53,
   "metadata": {
    "colab": {
     "base_uri": "https://localhost:8080/",
     "height": 74
    },
    "id": "9tEqsGdLEYNN",
    "outputId": "3092ebb9-fe23-440a-f69d-c7edbd2b76b5"
   },
   "outputs": [
    {
     "data": {
      "text/html": [
       "<style>#sk-container-id-1 {color: black;}#sk-container-id-1 pre{padding: 0;}#sk-container-id-1 div.sk-toggleable {background-color: white;}#sk-container-id-1 label.sk-toggleable__label {cursor: pointer;display: block;width: 100%;margin-bottom: 0;padding: 0.3em;box-sizing: border-box;text-align: center;}#sk-container-id-1 label.sk-toggleable__label-arrow:before {content: \"▸\";float: left;margin-right: 0.25em;color: #696969;}#sk-container-id-1 label.sk-toggleable__label-arrow:hover:before {color: black;}#sk-container-id-1 div.sk-estimator:hover label.sk-toggleable__label-arrow:before {color: black;}#sk-container-id-1 div.sk-toggleable__content {max-height: 0;max-width: 0;overflow: hidden;text-align: left;background-color: #f0f8ff;}#sk-container-id-1 div.sk-toggleable__content pre {margin: 0.2em;color: black;border-radius: 0.25em;background-color: #f0f8ff;}#sk-container-id-1 input.sk-toggleable__control:checked~div.sk-toggleable__content {max-height: 200px;max-width: 100%;overflow: auto;}#sk-container-id-1 input.sk-toggleable__control:checked~label.sk-toggleable__label-arrow:before {content: \"▾\";}#sk-container-id-1 div.sk-estimator input.sk-toggleable__control:checked~label.sk-toggleable__label {background-color: #d4ebff;}#sk-container-id-1 div.sk-label input.sk-toggleable__control:checked~label.sk-toggleable__label {background-color: #d4ebff;}#sk-container-id-1 input.sk-hidden--visually {border: 0;clip: rect(1px 1px 1px 1px);clip: rect(1px, 1px, 1px, 1px);height: 1px;margin: -1px;overflow: hidden;padding: 0;position: absolute;width: 1px;}#sk-container-id-1 div.sk-estimator {font-family: monospace;background-color: #f0f8ff;border: 1px dotted black;border-radius: 0.25em;box-sizing: border-box;margin-bottom: 0.5em;}#sk-container-id-1 div.sk-estimator:hover {background-color: #d4ebff;}#sk-container-id-1 div.sk-parallel-item::after {content: \"\";width: 100%;border-bottom: 1px solid gray;flex-grow: 1;}#sk-container-id-1 div.sk-label:hover label.sk-toggleable__label {background-color: #d4ebff;}#sk-container-id-1 div.sk-serial::before {content: \"\";position: absolute;border-left: 1px solid gray;box-sizing: border-box;top: 0;bottom: 0;left: 50%;z-index: 0;}#sk-container-id-1 div.sk-serial {display: flex;flex-direction: column;align-items: center;background-color: white;padding-right: 0.2em;padding-left: 0.2em;position: relative;}#sk-container-id-1 div.sk-item {position: relative;z-index: 1;}#sk-container-id-1 div.sk-parallel {display: flex;align-items: stretch;justify-content: center;background-color: white;position: relative;}#sk-container-id-1 div.sk-item::before, #sk-container-id-1 div.sk-parallel-item::before {content: \"\";position: absolute;border-left: 1px solid gray;box-sizing: border-box;top: 0;bottom: 0;left: 50%;z-index: -1;}#sk-container-id-1 div.sk-parallel-item {display: flex;flex-direction: column;z-index: 1;position: relative;background-color: white;}#sk-container-id-1 div.sk-parallel-item:first-child::after {align-self: flex-end;width: 50%;}#sk-container-id-1 div.sk-parallel-item:last-child::after {align-self: flex-start;width: 50%;}#sk-container-id-1 div.sk-parallel-item:only-child::after {width: 0;}#sk-container-id-1 div.sk-dashed-wrapped {border: 1px dashed gray;margin: 0 0.4em 0.5em 0.4em;box-sizing: border-box;padding-bottom: 0.4em;background-color: white;}#sk-container-id-1 div.sk-label label {font-family: monospace;font-weight: bold;display: inline-block;line-height: 1.2em;}#sk-container-id-1 div.sk-label-container {text-align: center;}#sk-container-id-1 div.sk-container {/* jupyter's `normalize.less` sets `[hidden] { display: none; }` but bootstrap.min.css set `[hidden] { display: none !important; }` so we also need the `!important` here to be able to override the default hidden behavior on the sphinx rendered scikit-learn.org. See: https://github.com/scikit-learn/scikit-learn/issues/21755 */display: inline-block !important;position: relative;}#sk-container-id-1 div.sk-text-repr-fallback {display: none;}</style><div id=\"sk-container-id-1\" class=\"sk-top-container\"><div class=\"sk-text-repr-fallback\"><pre>LinearRegression()</pre><b>In a Jupyter environment, please rerun this cell to show the HTML representation or trust the notebook. <br />On GitHub, the HTML representation is unable to render, please try loading this page with nbviewer.org.</b></div><div class=\"sk-container\" hidden><div class=\"sk-item\"><div class=\"sk-estimator sk-toggleable\"><input class=\"sk-toggleable__control sk-hidden--visually\" id=\"sk-estimator-id-1\" type=\"checkbox\" checked><label for=\"sk-estimator-id-1\" class=\"sk-toggleable__label sk-toggleable__label-arrow\">LinearRegression</label><div class=\"sk-toggleable__content\"><pre>LinearRegression()</pre></div></div></div></div></div>"
      ],
      "text/plain": [
       "LinearRegression()"
      ]
     },
     "execution_count": 53,
     "metadata": {},
     "output_type": "execute_result"
    }
   ],
   "source": [
    "linear_regression.fit(x_train, y_train)"
   ]
  },
  {
   "cell_type": "code",
   "execution_count": 54,
   "metadata": {
    "colab": {
     "base_uri": "https://localhost:8080/",
     "height": 74
    },
    "id": "cbCpJOpOEYZA",
    "outputId": "bb8dc864-7f7a-48c9-8213-a2ce960def7a"
   },
   "outputs": [
    {
     "data": {
      "text/html": [
       "<style>#sk-container-id-2 {color: black;}#sk-container-id-2 pre{padding: 0;}#sk-container-id-2 div.sk-toggleable {background-color: white;}#sk-container-id-2 label.sk-toggleable__label {cursor: pointer;display: block;width: 100%;margin-bottom: 0;padding: 0.3em;box-sizing: border-box;text-align: center;}#sk-container-id-2 label.sk-toggleable__label-arrow:before {content: \"▸\";float: left;margin-right: 0.25em;color: #696969;}#sk-container-id-2 label.sk-toggleable__label-arrow:hover:before {color: black;}#sk-container-id-2 div.sk-estimator:hover label.sk-toggleable__label-arrow:before {color: black;}#sk-container-id-2 div.sk-toggleable__content {max-height: 0;max-width: 0;overflow: hidden;text-align: left;background-color: #f0f8ff;}#sk-container-id-2 div.sk-toggleable__content pre {margin: 0.2em;color: black;border-radius: 0.25em;background-color: #f0f8ff;}#sk-container-id-2 input.sk-toggleable__control:checked~div.sk-toggleable__content {max-height: 200px;max-width: 100%;overflow: auto;}#sk-container-id-2 input.sk-toggleable__control:checked~label.sk-toggleable__label-arrow:before {content: \"▾\";}#sk-container-id-2 div.sk-estimator input.sk-toggleable__control:checked~label.sk-toggleable__label {background-color: #d4ebff;}#sk-container-id-2 div.sk-label input.sk-toggleable__control:checked~label.sk-toggleable__label {background-color: #d4ebff;}#sk-container-id-2 input.sk-hidden--visually {border: 0;clip: rect(1px 1px 1px 1px);clip: rect(1px, 1px, 1px, 1px);height: 1px;margin: -1px;overflow: hidden;padding: 0;position: absolute;width: 1px;}#sk-container-id-2 div.sk-estimator {font-family: monospace;background-color: #f0f8ff;border: 1px dotted black;border-radius: 0.25em;box-sizing: border-box;margin-bottom: 0.5em;}#sk-container-id-2 div.sk-estimator:hover {background-color: #d4ebff;}#sk-container-id-2 div.sk-parallel-item::after {content: \"\";width: 100%;border-bottom: 1px solid gray;flex-grow: 1;}#sk-container-id-2 div.sk-label:hover label.sk-toggleable__label {background-color: #d4ebff;}#sk-container-id-2 div.sk-serial::before {content: \"\";position: absolute;border-left: 1px solid gray;box-sizing: border-box;top: 0;bottom: 0;left: 50%;z-index: 0;}#sk-container-id-2 div.sk-serial {display: flex;flex-direction: column;align-items: center;background-color: white;padding-right: 0.2em;padding-left: 0.2em;position: relative;}#sk-container-id-2 div.sk-item {position: relative;z-index: 1;}#sk-container-id-2 div.sk-parallel {display: flex;align-items: stretch;justify-content: center;background-color: white;position: relative;}#sk-container-id-2 div.sk-item::before, #sk-container-id-2 div.sk-parallel-item::before {content: \"\";position: absolute;border-left: 1px solid gray;box-sizing: border-box;top: 0;bottom: 0;left: 50%;z-index: -1;}#sk-container-id-2 div.sk-parallel-item {display: flex;flex-direction: column;z-index: 1;position: relative;background-color: white;}#sk-container-id-2 div.sk-parallel-item:first-child::after {align-self: flex-end;width: 50%;}#sk-container-id-2 div.sk-parallel-item:last-child::after {align-self: flex-start;width: 50%;}#sk-container-id-2 div.sk-parallel-item:only-child::after {width: 0;}#sk-container-id-2 div.sk-dashed-wrapped {border: 1px dashed gray;margin: 0 0.4em 0.5em 0.4em;box-sizing: border-box;padding-bottom: 0.4em;background-color: white;}#sk-container-id-2 div.sk-label label {font-family: monospace;font-weight: bold;display: inline-block;line-height: 1.2em;}#sk-container-id-2 div.sk-label-container {text-align: center;}#sk-container-id-2 div.sk-container {/* jupyter's `normalize.less` sets `[hidden] { display: none; }` but bootstrap.min.css set `[hidden] { display: none !important; }` so we also need the `!important` here to be able to override the default hidden behavior on the sphinx rendered scikit-learn.org. See: https://github.com/scikit-learn/scikit-learn/issues/21755 */display: inline-block !important;position: relative;}#sk-container-id-2 div.sk-text-repr-fallback {display: none;}</style><div id=\"sk-container-id-2\" class=\"sk-top-container\"><div class=\"sk-text-repr-fallback\"><pre>RandomForestRegressor()</pre><b>In a Jupyter environment, please rerun this cell to show the HTML representation or trust the notebook. <br />On GitHub, the HTML representation is unable to render, please try loading this page with nbviewer.org.</b></div><div class=\"sk-container\" hidden><div class=\"sk-item\"><div class=\"sk-estimator sk-toggleable\"><input class=\"sk-toggleable__control sk-hidden--visually\" id=\"sk-estimator-id-2\" type=\"checkbox\" checked><label for=\"sk-estimator-id-2\" class=\"sk-toggleable__label sk-toggleable__label-arrow\">RandomForestRegressor</label><div class=\"sk-toggleable__content\"><pre>RandomForestRegressor()</pre></div></div></div></div></div>"
      ],
      "text/plain": [
       "RandomForestRegressor()"
      ]
     },
     "execution_count": 54,
     "metadata": {},
     "output_type": "execute_result"
    }
   ],
   "source": [
    "random_forest_regressor.fit(x_train, y_train)"
   ]
  },
  {
   "cell_type": "code",
   "execution_count": 55,
   "metadata": {
    "colab": {
     "base_uri": "https://localhost:8080/",
     "height": 74
    },
    "id": "oxliI1_MEYb3",
    "outputId": "e1ed3878-66bb-48ed-a0d6-cf21f6cb11e1"
   },
   "outputs": [
    {
     "data": {
      "text/html": [
       "<style>#sk-container-id-3 {color: black;}#sk-container-id-3 pre{padding: 0;}#sk-container-id-3 div.sk-toggleable {background-color: white;}#sk-container-id-3 label.sk-toggleable__label {cursor: pointer;display: block;width: 100%;margin-bottom: 0;padding: 0.3em;box-sizing: border-box;text-align: center;}#sk-container-id-3 label.sk-toggleable__label-arrow:before {content: \"▸\";float: left;margin-right: 0.25em;color: #696969;}#sk-container-id-3 label.sk-toggleable__label-arrow:hover:before {color: black;}#sk-container-id-3 div.sk-estimator:hover label.sk-toggleable__label-arrow:before {color: black;}#sk-container-id-3 div.sk-toggleable__content {max-height: 0;max-width: 0;overflow: hidden;text-align: left;background-color: #f0f8ff;}#sk-container-id-3 div.sk-toggleable__content pre {margin: 0.2em;color: black;border-radius: 0.25em;background-color: #f0f8ff;}#sk-container-id-3 input.sk-toggleable__control:checked~div.sk-toggleable__content {max-height: 200px;max-width: 100%;overflow: auto;}#sk-container-id-3 input.sk-toggleable__control:checked~label.sk-toggleable__label-arrow:before {content: \"▾\";}#sk-container-id-3 div.sk-estimator input.sk-toggleable__control:checked~label.sk-toggleable__label {background-color: #d4ebff;}#sk-container-id-3 div.sk-label input.sk-toggleable__control:checked~label.sk-toggleable__label {background-color: #d4ebff;}#sk-container-id-3 input.sk-hidden--visually {border: 0;clip: rect(1px 1px 1px 1px);clip: rect(1px, 1px, 1px, 1px);height: 1px;margin: -1px;overflow: hidden;padding: 0;position: absolute;width: 1px;}#sk-container-id-3 div.sk-estimator {font-family: monospace;background-color: #f0f8ff;border: 1px dotted black;border-radius: 0.25em;box-sizing: border-box;margin-bottom: 0.5em;}#sk-container-id-3 div.sk-estimator:hover {background-color: #d4ebff;}#sk-container-id-3 div.sk-parallel-item::after {content: \"\";width: 100%;border-bottom: 1px solid gray;flex-grow: 1;}#sk-container-id-3 div.sk-label:hover label.sk-toggleable__label {background-color: #d4ebff;}#sk-container-id-3 div.sk-serial::before {content: \"\";position: absolute;border-left: 1px solid gray;box-sizing: border-box;top: 0;bottom: 0;left: 50%;z-index: 0;}#sk-container-id-3 div.sk-serial {display: flex;flex-direction: column;align-items: center;background-color: white;padding-right: 0.2em;padding-left: 0.2em;position: relative;}#sk-container-id-3 div.sk-item {position: relative;z-index: 1;}#sk-container-id-3 div.sk-parallel {display: flex;align-items: stretch;justify-content: center;background-color: white;position: relative;}#sk-container-id-3 div.sk-item::before, #sk-container-id-3 div.sk-parallel-item::before {content: \"\";position: absolute;border-left: 1px solid gray;box-sizing: border-box;top: 0;bottom: 0;left: 50%;z-index: -1;}#sk-container-id-3 div.sk-parallel-item {display: flex;flex-direction: column;z-index: 1;position: relative;background-color: white;}#sk-container-id-3 div.sk-parallel-item:first-child::after {align-self: flex-end;width: 50%;}#sk-container-id-3 div.sk-parallel-item:last-child::after {align-self: flex-start;width: 50%;}#sk-container-id-3 div.sk-parallel-item:only-child::after {width: 0;}#sk-container-id-3 div.sk-dashed-wrapped {border: 1px dashed gray;margin: 0 0.4em 0.5em 0.4em;box-sizing: border-box;padding-bottom: 0.4em;background-color: white;}#sk-container-id-3 div.sk-label label {font-family: monospace;font-weight: bold;display: inline-block;line-height: 1.2em;}#sk-container-id-3 div.sk-label-container {text-align: center;}#sk-container-id-3 div.sk-container {/* jupyter's `normalize.less` sets `[hidden] { display: none; }` but bootstrap.min.css set `[hidden] { display: none !important; }` so we also need the `!important` here to be able to override the default hidden behavior on the sphinx rendered scikit-learn.org. See: https://github.com/scikit-learn/scikit-learn/issues/21755 */display: inline-block !important;position: relative;}#sk-container-id-3 div.sk-text-repr-fallback {display: none;}</style><div id=\"sk-container-id-3\" class=\"sk-top-container\"><div class=\"sk-text-repr-fallback\"><pre>AdaBoostRegressor()</pre><b>In a Jupyter environment, please rerun this cell to show the HTML representation or trust the notebook. <br />On GitHub, the HTML representation is unable to render, please try loading this page with nbviewer.org.</b></div><div class=\"sk-container\" hidden><div class=\"sk-item\"><div class=\"sk-estimator sk-toggleable\"><input class=\"sk-toggleable__control sk-hidden--visually\" id=\"sk-estimator-id-3\" type=\"checkbox\" checked><label for=\"sk-estimator-id-3\" class=\"sk-toggleable__label sk-toggleable__label-arrow\">AdaBoostRegressor</label><div class=\"sk-toggleable__content\"><pre>AdaBoostRegressor()</pre></div></div></div></div></div>"
      ],
      "text/plain": [
       "AdaBoostRegressor()"
      ]
     },
     "execution_count": 55,
     "metadata": {},
     "output_type": "execute_result"
    }
   ],
   "source": [
    "adaboost_regressor.fit(x_train, y_train)"
   ]
  },
  {
   "cell_type": "code",
   "execution_count": 56,
   "metadata": {
    "colab": {
     "base_uri": "https://localhost:8080/",
     "height": 74
    },
    "id": "wirnhNWFEYep",
    "outputId": "490dc363-5dfe-4808-b68b-50da8e75e067"
   },
   "outputs": [
    {
     "data": {
      "text/html": [
       "<style>#sk-container-id-4 {color: black;}#sk-container-id-4 pre{padding: 0;}#sk-container-id-4 div.sk-toggleable {background-color: white;}#sk-container-id-4 label.sk-toggleable__label {cursor: pointer;display: block;width: 100%;margin-bottom: 0;padding: 0.3em;box-sizing: border-box;text-align: center;}#sk-container-id-4 label.sk-toggleable__label-arrow:before {content: \"▸\";float: left;margin-right: 0.25em;color: #696969;}#sk-container-id-4 label.sk-toggleable__label-arrow:hover:before {color: black;}#sk-container-id-4 div.sk-estimator:hover label.sk-toggleable__label-arrow:before {color: black;}#sk-container-id-4 div.sk-toggleable__content {max-height: 0;max-width: 0;overflow: hidden;text-align: left;background-color: #f0f8ff;}#sk-container-id-4 div.sk-toggleable__content pre {margin: 0.2em;color: black;border-radius: 0.25em;background-color: #f0f8ff;}#sk-container-id-4 input.sk-toggleable__control:checked~div.sk-toggleable__content {max-height: 200px;max-width: 100%;overflow: auto;}#sk-container-id-4 input.sk-toggleable__control:checked~label.sk-toggleable__label-arrow:before {content: \"▾\";}#sk-container-id-4 div.sk-estimator input.sk-toggleable__control:checked~label.sk-toggleable__label {background-color: #d4ebff;}#sk-container-id-4 div.sk-label input.sk-toggleable__control:checked~label.sk-toggleable__label {background-color: #d4ebff;}#sk-container-id-4 input.sk-hidden--visually {border: 0;clip: rect(1px 1px 1px 1px);clip: rect(1px, 1px, 1px, 1px);height: 1px;margin: -1px;overflow: hidden;padding: 0;position: absolute;width: 1px;}#sk-container-id-4 div.sk-estimator {font-family: monospace;background-color: #f0f8ff;border: 1px dotted black;border-radius: 0.25em;box-sizing: border-box;margin-bottom: 0.5em;}#sk-container-id-4 div.sk-estimator:hover {background-color: #d4ebff;}#sk-container-id-4 div.sk-parallel-item::after {content: \"\";width: 100%;border-bottom: 1px solid gray;flex-grow: 1;}#sk-container-id-4 div.sk-label:hover label.sk-toggleable__label {background-color: #d4ebff;}#sk-container-id-4 div.sk-serial::before {content: \"\";position: absolute;border-left: 1px solid gray;box-sizing: border-box;top: 0;bottom: 0;left: 50%;z-index: 0;}#sk-container-id-4 div.sk-serial {display: flex;flex-direction: column;align-items: center;background-color: white;padding-right: 0.2em;padding-left: 0.2em;position: relative;}#sk-container-id-4 div.sk-item {position: relative;z-index: 1;}#sk-container-id-4 div.sk-parallel {display: flex;align-items: stretch;justify-content: center;background-color: white;position: relative;}#sk-container-id-4 div.sk-item::before, #sk-container-id-4 div.sk-parallel-item::before {content: \"\";position: absolute;border-left: 1px solid gray;box-sizing: border-box;top: 0;bottom: 0;left: 50%;z-index: -1;}#sk-container-id-4 div.sk-parallel-item {display: flex;flex-direction: column;z-index: 1;position: relative;background-color: white;}#sk-container-id-4 div.sk-parallel-item:first-child::after {align-self: flex-end;width: 50%;}#sk-container-id-4 div.sk-parallel-item:last-child::after {align-self: flex-start;width: 50%;}#sk-container-id-4 div.sk-parallel-item:only-child::after {width: 0;}#sk-container-id-4 div.sk-dashed-wrapped {border: 1px dashed gray;margin: 0 0.4em 0.5em 0.4em;box-sizing: border-box;padding-bottom: 0.4em;background-color: white;}#sk-container-id-4 div.sk-label label {font-family: monospace;font-weight: bold;display: inline-block;line-height: 1.2em;}#sk-container-id-4 div.sk-label-container {text-align: center;}#sk-container-id-4 div.sk-container {/* jupyter's `normalize.less` sets `[hidden] { display: none; }` but bootstrap.min.css set `[hidden] { display: none !important; }` so we also need the `!important` here to be able to override the default hidden behavior on the sphinx rendered scikit-learn.org. See: https://github.com/scikit-learn/scikit-learn/issues/21755 */display: inline-block !important;position: relative;}#sk-container-id-4 div.sk-text-repr-fallback {display: none;}</style><div id=\"sk-container-id-4\" class=\"sk-top-container\"><div class=\"sk-text-repr-fallback\"><pre>GradientBoostingRegressor()</pre><b>In a Jupyter environment, please rerun this cell to show the HTML representation or trust the notebook. <br />On GitHub, the HTML representation is unable to render, please try loading this page with nbviewer.org.</b></div><div class=\"sk-container\" hidden><div class=\"sk-item\"><div class=\"sk-estimator sk-toggleable\"><input class=\"sk-toggleable__control sk-hidden--visually\" id=\"sk-estimator-id-4\" type=\"checkbox\" checked><label for=\"sk-estimator-id-4\" class=\"sk-toggleable__label sk-toggleable__label-arrow\">GradientBoostingRegressor</label><div class=\"sk-toggleable__content\"><pre>GradientBoostingRegressor()</pre></div></div></div></div></div>"
      ],
      "text/plain": [
       "GradientBoostingRegressor()"
      ]
     },
     "execution_count": 56,
     "metadata": {},
     "output_type": "execute_result"
    }
   ],
   "source": [
    "gradient_boosting.fit(x_train, y_train)"
   ]
  },
  {
   "cell_type": "code",
   "execution_count": 57,
   "metadata": {
    "colab": {
     "base_uri": "https://localhost:8080/",
     "height": 74
    },
    "id": "9j45imSdEYhJ",
    "outputId": "fdf5a46a-687f-4c8f-c129-027d6281a661"
   },
   "outputs": [
    {
     "data": {
      "text/html": [
       "<style>#sk-container-id-5 {color: black;}#sk-container-id-5 pre{padding: 0;}#sk-container-id-5 div.sk-toggleable {background-color: white;}#sk-container-id-5 label.sk-toggleable__label {cursor: pointer;display: block;width: 100%;margin-bottom: 0;padding: 0.3em;box-sizing: border-box;text-align: center;}#sk-container-id-5 label.sk-toggleable__label-arrow:before {content: \"▸\";float: left;margin-right: 0.25em;color: #696969;}#sk-container-id-5 label.sk-toggleable__label-arrow:hover:before {color: black;}#sk-container-id-5 div.sk-estimator:hover label.sk-toggleable__label-arrow:before {color: black;}#sk-container-id-5 div.sk-toggleable__content {max-height: 0;max-width: 0;overflow: hidden;text-align: left;background-color: #f0f8ff;}#sk-container-id-5 div.sk-toggleable__content pre {margin: 0.2em;color: black;border-radius: 0.25em;background-color: #f0f8ff;}#sk-container-id-5 input.sk-toggleable__control:checked~div.sk-toggleable__content {max-height: 200px;max-width: 100%;overflow: auto;}#sk-container-id-5 input.sk-toggleable__control:checked~label.sk-toggleable__label-arrow:before {content: \"▾\";}#sk-container-id-5 div.sk-estimator input.sk-toggleable__control:checked~label.sk-toggleable__label {background-color: #d4ebff;}#sk-container-id-5 div.sk-label input.sk-toggleable__control:checked~label.sk-toggleable__label {background-color: #d4ebff;}#sk-container-id-5 input.sk-hidden--visually {border: 0;clip: rect(1px 1px 1px 1px);clip: rect(1px, 1px, 1px, 1px);height: 1px;margin: -1px;overflow: hidden;padding: 0;position: absolute;width: 1px;}#sk-container-id-5 div.sk-estimator {font-family: monospace;background-color: #f0f8ff;border: 1px dotted black;border-radius: 0.25em;box-sizing: border-box;margin-bottom: 0.5em;}#sk-container-id-5 div.sk-estimator:hover {background-color: #d4ebff;}#sk-container-id-5 div.sk-parallel-item::after {content: \"\";width: 100%;border-bottom: 1px solid gray;flex-grow: 1;}#sk-container-id-5 div.sk-label:hover label.sk-toggleable__label {background-color: #d4ebff;}#sk-container-id-5 div.sk-serial::before {content: \"\";position: absolute;border-left: 1px solid gray;box-sizing: border-box;top: 0;bottom: 0;left: 50%;z-index: 0;}#sk-container-id-5 div.sk-serial {display: flex;flex-direction: column;align-items: center;background-color: white;padding-right: 0.2em;padding-left: 0.2em;position: relative;}#sk-container-id-5 div.sk-item {position: relative;z-index: 1;}#sk-container-id-5 div.sk-parallel {display: flex;align-items: stretch;justify-content: center;background-color: white;position: relative;}#sk-container-id-5 div.sk-item::before, #sk-container-id-5 div.sk-parallel-item::before {content: \"\";position: absolute;border-left: 1px solid gray;box-sizing: border-box;top: 0;bottom: 0;left: 50%;z-index: -1;}#sk-container-id-5 div.sk-parallel-item {display: flex;flex-direction: column;z-index: 1;position: relative;background-color: white;}#sk-container-id-5 div.sk-parallel-item:first-child::after {align-self: flex-end;width: 50%;}#sk-container-id-5 div.sk-parallel-item:last-child::after {align-self: flex-start;width: 50%;}#sk-container-id-5 div.sk-parallel-item:only-child::after {width: 0;}#sk-container-id-5 div.sk-dashed-wrapped {border: 1px dashed gray;margin: 0 0.4em 0.5em 0.4em;box-sizing: border-box;padding-bottom: 0.4em;background-color: white;}#sk-container-id-5 div.sk-label label {font-family: monospace;font-weight: bold;display: inline-block;line-height: 1.2em;}#sk-container-id-5 div.sk-label-container {text-align: center;}#sk-container-id-5 div.sk-container {/* jupyter's `normalize.less` sets `[hidden] { display: none; }` but bootstrap.min.css set `[hidden] { display: none !important; }` so we also need the `!important` here to be able to override the default hidden behavior on the sphinx rendered scikit-learn.org. See: https://github.com/scikit-learn/scikit-learn/issues/21755 */display: inline-block !important;position: relative;}#sk-container-id-5 div.sk-text-repr-fallback {display: none;}</style><div id=\"sk-container-id-5\" class=\"sk-top-container\"><div class=\"sk-text-repr-fallback\"><pre>KNeighborsRegressor()</pre><b>In a Jupyter environment, please rerun this cell to show the HTML representation or trust the notebook. <br />On GitHub, the HTML representation is unable to render, please try loading this page with nbviewer.org.</b></div><div class=\"sk-container\" hidden><div class=\"sk-item\"><div class=\"sk-estimator sk-toggleable\"><input class=\"sk-toggleable__control sk-hidden--visually\" id=\"sk-estimator-id-5\" type=\"checkbox\" checked><label for=\"sk-estimator-id-5\" class=\"sk-toggleable__label sk-toggleable__label-arrow\">KNeighborsRegressor</label><div class=\"sk-toggleable__content\"><pre>KNeighborsRegressor()</pre></div></div></div></div></div>"
      ],
      "text/plain": [
       "KNeighborsRegressor()"
      ]
     },
     "execution_count": 57,
     "metadata": {},
     "output_type": "execute_result"
    }
   ],
   "source": [
    "knn_regressor.fit(x_train, y_train)"
   ]
  },
  {
   "cell_type": "code",
   "execution_count": 58,
   "metadata": {
    "id": "x_3ALYT5EYkn"
   },
   "outputs": [],
   "source": [
    "train_pred_lr = linear_regression.predict(x_train)\n",
    "train_pred_rf = random_forest_regressor.predict(x_train)\n",
    "train_pred_ab = adaboost_regressor.predict(x_train)\n",
    "train_pred_gb = gradient_boosting.predict(x_train)\n",
    "train_pred_knn = knn_regressor.predict(x_train)"
   ]
  },
  {
   "cell_type": "code",
   "execution_count": 59,
   "metadata": {
    "id": "fm-umzOFEvNn"
   },
   "outputs": [],
   "source": [
    "test_pred_lr = linear_regression.predict(x_test)\n",
    "test_pred_rf = random_forest_regressor.predict(x_test)\n",
    "test_pred_ab = adaboost_regressor.predict(x_test)\n",
    "test_pred_gb = gradient_boosting.predict(x_test)\n",
    "test_pred_knn = knn_regressor.predict(x_test)"
   ]
  },
  {
   "cell_type": "code",
   "execution_count": 60,
   "metadata": {
    "id": "rblqfqZVEvQW"
   },
   "outputs": [],
   "source": [
    "# Calculate RMSE for training and test sets\n",
    "train_rmse_lr = np.sqrt(mean_squared_error(y_train, train_pred_lr))\n",
    "train_rmse_rf = np.sqrt(mean_squared_error(y_train, train_pred_rf))\n",
    "train_rmse_ab = np.sqrt(mean_squared_error(y_train, train_pred_ab))\n",
    "train_rmse_gb = np.sqrt(mean_squared_error(y_train, train_pred_gb))\n",
    "train_rmse_knn = np.sqrt(mean_squared_error(y_train, train_pred_knn))\n",
    "\n",
    "test_rmse_lr = np.sqrt(mean_squared_error(y_test, test_pred_lr))\n",
    "test_rmse_rf = np.sqrt(mean_squared_error(y_test, test_pred_rf))\n",
    "test_rmse_ab = np.sqrt(mean_squared_error(y_test, test_pred_ab))\n",
    "test_rmse_gb = np.sqrt(mean_squared_error(y_test, test_pred_gb))\n",
    "test_rmse_knn = np.sqrt(mean_squared_error(y_test, test_pred_knn))"
   ]
  },
  {
   "cell_type": "code",
   "execution_count": 61,
   "metadata": {
    "colab": {
     "base_uri": "https://localhost:8080/"
    },
    "id": "4EheUCJxEvS-",
    "outputId": "a33e35b1-f930-494f-d728-2841f1d50912"
   },
   "outputs": [
    {
     "name": "stdout",
     "output_type": "stream",
     "text": [
      "Linear Regression Training RMSE: 2.6989064274210888\n",
      "RandomForest Regressor Training RMSE: 0.012949028748819643\n",
      "AdaBoost Regressor Training RMSE: 1.7553322945524963\n",
      "Gradient Boosting Training RMSE: 0.27093606562017963\n",
      "KNN Training RMSE: 1.1438923474336047\n",
      "Linear Regression Test RMSE: 2.683806190292943\n",
      "RandomForest Regressor Test RMSE: 0.013131093986816866\n",
      "AdaBoost Regressor Test RMSE: 1.781526272936602\n",
      "Gradient Boosting Test RMSE: 0.25010358759033513\n",
      "KNN Test RMSE: 1.2604528625713467\n"
     ]
    }
   ],
   "source": [
    "# Print RMSE for each model\n",
    "print(\"Linear Regression Training RMSE:\", train_rmse_lr)\n",
    "print(\"RandomForest Regressor Training RMSE:\", train_rmse_rf)\n",
    "print(\"AdaBoost Regressor Training RMSE:\", train_rmse_ab)\n",
    "print(\"Gradient Boosting Training RMSE:\", train_rmse_gb)\n",
    "print(\"KNN Training RMSE:\", train_rmse_knn)\n",
    "\n",
    "print(\"Linear Regression Test RMSE:\", test_rmse_lr)\n",
    "print(\"RandomForest Regressor Test RMSE:\", test_rmse_rf)\n",
    "print(\"AdaBoost Regressor Test RMSE:\", test_rmse_ab)\n",
    "print(\"Gradient Boosting Test RMSE:\", test_rmse_gb)\n",
    "print(\"KNN Test RMSE:\", test_rmse_knn)"
   ]
  },
  {
   "cell_type": "code",
   "execution_count": 62,
   "metadata": {
    "colab": {
     "base_uri": "https://localhost:8080/",
     "height": 487
    },
    "id": "CKhL9-VyEvVm",
    "outputId": "0b439085-b688-4adb-c272-417a4020f0af"
   },
   "outputs": [
    {
     "data": {
      "image/png": "[encoded data removed]",
      "text/plain": [
       "<Figure size 640x480 with 1 Axes>"
      ]
     },
     "metadata": {},
     "output_type": "display_data"
    }
   ],
   "source": [
    "# RMSE values for each model on both training and test sets\n",
    "models = ['Linear Regression', 'RandomForest Regressor', 'AdaBoost Regressor', 'Gradient Boosting', 'KNN']\n",
    "train_rmse = [train_rmse_lr, train_rmse_rf, train_rmse_ab, train_rmse_gb, train_rmse_knn]\n",
    "test_rmse = [test_rmse_lr, test_rmse_rf, test_rmse_ab, test_rmse_gb, test_rmse_knn]\n",
    "\n",
    "# Bar width and positions\n",
    "bar_width = 0.35\n",
    "index = np.arange(len(models))\n",
    "\n",
    "# Create bar plots for training and test RMSE\n",
    "plt.bar(index, train_rmse, bar_width, label='Training RMSE', alpha=0.7)\n",
    "plt.bar(index + bar_width, test_rmse, bar_width, label='Test RMSE', alpha=0.7)\n",
    "\n",
    "# Annotate the bars with RMSE values\n",
    "for i in range(len(models)):\n",
    "    plt.text(index[i], train_rmse[i], f'{train_rmse[i]:.2f}', ha='center', va='bottom', fontsize=10)\n",
    "    plt.text(index[i] + bar_width, test_rmse[i], f'{test_rmse[i]:.2f}', ha='center', va='bottom', fontsize=10)\n",
    "\n",
    "# Customize the plot\n",
    "plt.xlabel('Models')\n",
    "plt.ylabel('RMSE')\n",
    "plt.title('RMSE for Different Regression Models')\n",
    "plt.xticks(index + bar_width / 2, models, rotation=45)  # Rotate the x-axis labels\n",
    "plt.legend()\n",
    "\n",
    "# Display the plot\n",
    "plt.tight_layout()\n",
    "plt.show()\n"
   ]
  },
  {
   "cell_type": "code",
   "execution_count": 63,
   "metadata": {
    "id": "5c-MOSQXWHK9"
   },
   "outputs": [],
   "source": [
    "from sklearn.metrics import mean_squared_error"
   ]
  },
  {
   "cell_type": "code",
   "execution_count": 64,
   "metadata": {
    "colab": {
     "base_uri": "https://localhost:8080/",
     "height": 443
    },
    "id": "l0riV-oTfRrd",
    "outputId": "8ce0f50f-46be-41c5-d79c-4a6f11e44810"
   },
   "outputs": [
    {
     "data": {
      "text/html": [
       "<div>\n",
       "<style scoped>\n",
       "    .dataframe tbody tr th:only-of-type {\n",
       "        vertical-align: middle;\n",
       "    }\n",
       "\n",
       "    .dataframe tbody tr th {\n",
       "        vertical-align: top;\n",
       "    }\n",
       "\n",
       "    .dataframe thead th {\n",
       "        text-align: right;\n",
       "    }\n",
       "</style>\n",
       "<table border=\"1\" class=\"dataframe\">\n",
       "  <thead>\n",
       "    <tr style=\"text-align: right;\">\n",
       "      <th></th>\n",
       "      <th>ADM0_NAME</th>\n",
       "      <th>ADM1_NAME</th>\n",
       "      <th>ADM2_NAME</th>\n",
       "      <th>Income_Category</th>\n",
       "      <th>Income_Month</th>\n",
       "      <th>Income_Year</th>\n",
       "      <th>IncomeValue</th>\n",
       "      <th>Income_DataSource</th>\n",
       "    </tr>\n",
       "  </thead>\n",
       "  <tbody>\n",
       "    <tr>\n",
       "      <th>4190</th>\n",
       "      <td>31</td>\n",
       "      <td>54</td>\n",
       "      <td>58</td>\n",
       "      <td>10</td>\n",
       "      <td>10</td>\n",
       "      <td>2011.0</td>\n",
       "      <td>7.022698988</td>\n",
       "      <td>31</td>\n",
       "    </tr>\n",
       "    <tr>\n",
       "      <th>4191</th>\n",
       "      <td>31</td>\n",
       "      <td>54</td>\n",
       "      <td>58</td>\n",
       "      <td>11</td>\n",
       "      <td>10</td>\n",
       "      <td>2011.0</td>\n",
       "      <td>0.576121586</td>\n",
       "      <td>31</td>\n",
       "    </tr>\n",
       "    <tr>\n",
       "      <th>4192</th>\n",
       "      <td>31</td>\n",
       "      <td>54</td>\n",
       "      <td>58</td>\n",
       "      <td>15</td>\n",
       "      <td>10</td>\n",
       "      <td>2011.0</td>\n",
       "      <td>10.94631013</td>\n",
       "      <td>31</td>\n",
       "    </tr>\n",
       "    <tr>\n",
       "      <th>4193</th>\n",
       "      <td>31</td>\n",
       "      <td>54</td>\n",
       "      <td>58</td>\n",
       "      <td>17</td>\n",
       "      <td>10</td>\n",
       "      <td>2011.0</td>\n",
       "      <td>8.150666614</td>\n",
       "      <td>31</td>\n",
       "    </tr>\n",
       "    <tr>\n",
       "      <th>4194</th>\n",
       "      <td>31</td>\n",
       "      <td>54</td>\n",
       "      <td>58</td>\n",
       "      <td>18</td>\n",
       "      <td>10</td>\n",
       "      <td>2011.0</td>\n",
       "      <td>21.52284082</td>\n",
       "      <td>31</td>\n",
       "    </tr>\n",
       "    <tr>\n",
       "      <th>...</th>\n",
       "      <td>...</td>\n",
       "      <td>...</td>\n",
       "      <td>...</td>\n",
       "      <td>...</td>\n",
       "      <td>...</td>\n",
       "      <td>...</td>\n",
       "      <td>...</td>\n",
       "      <td>...</td>\n",
       "    </tr>\n",
       "    <tr>\n",
       "      <th>4365</th>\n",
       "      <td>31</td>\n",
       "      <td>246</td>\n",
       "      <td>58</td>\n",
       "      <td>18</td>\n",
       "      <td>10</td>\n",
       "      <td>2011.0</td>\n",
       "      <td>33.51018565</td>\n",
       "      <td>31</td>\n",
       "    </tr>\n",
       "    <tr>\n",
       "      <th>4366</th>\n",
       "      <td>31</td>\n",
       "      <td>246</td>\n",
       "      <td>58</td>\n",
       "      <td>21</td>\n",
       "      <td>10</td>\n",
       "      <td>2011.0</td>\n",
       "      <td>2.537680957</td>\n",
       "      <td>31</td>\n",
       "    </tr>\n",
       "    <tr>\n",
       "      <th>4367</th>\n",
       "      <td>31</td>\n",
       "      <td>246</td>\n",
       "      <td>58</td>\n",
       "      <td>22</td>\n",
       "      <td>10</td>\n",
       "      <td>2011.0</td>\n",
       "      <td>2.047047847</td>\n",
       "      <td>31</td>\n",
       "    </tr>\n",
       "    <tr>\n",
       "      <th>4368</th>\n",
       "      <td>31</td>\n",
       "      <td>246</td>\n",
       "      <td>58</td>\n",
       "      <td>23</td>\n",
       "      <td>10</td>\n",
       "      <td>2011.0</td>\n",
       "      <td>8.87528672</td>\n",
       "      <td>31</td>\n",
       "    </tr>\n",
       "    <tr>\n",
       "      <th>4369</th>\n",
       "      <td>31</td>\n",
       "      <td>246</td>\n",
       "      <td>58</td>\n",
       "      <td>27</td>\n",
       "      <td>10</td>\n",
       "      <td>2011.0</td>\n",
       "      <td>2.077772153</td>\n",
       "      <td>31</td>\n",
       "    </tr>\n",
       "  </tbody>\n",
       "</table>\n",
       "<p>180 rows × 8 columns</p>\n",
       "</div>"
      ],
      "text/plain": [
       "      ADM0_NAME  ADM1_NAME  ADM2_NAME  Income_Category  Income_Month  \\\n",
       "4190         31         54         58               10            10   \n",
       "4191         31         54         58               11            10   \n",
       "4192         31         54         58               15            10   \n",
       "4193         31         54         58               17            10   \n",
       "4194         31         54         58               18            10   \n",
       "...         ...        ...        ...              ...           ...   \n",
       "4365         31        246         58               18            10   \n",
       "4366         31        246         58               21            10   \n",
       "4367         31        246         58               22            10   \n",
       "4368         31        246         58               23            10   \n",
       "4369         31        246         58               27            10   \n",
       "\n",
       "      Income_Year  IncomeValue  Income_DataSource  \n",
       "4190       2011.0  7.022698988                 31  \n",
       "4191       2011.0  0.576121586                 31  \n",
       "4192       2011.0  10.94631013                 31  \n",
       "4193       2011.0  8.150666614                 31  \n",
       "4194       2011.0  21.52284082                 31  \n",
       "...           ...          ...                ...  \n",
       "4365       2011.0  33.51018565                 31  \n",
       "4366       2011.0  2.537680957                 31  \n",
       "4367       2011.0  2.047047847                 31  \n",
       "4368       2011.0   8.87528672                 31  \n",
       "4369       2011.0  2.077772153                 31  \n",
       "\n",
       "[180 rows x 8 columns]"
      ]
     },
     "execution_count": 64,
     "metadata": {},
     "output_type": "execute_result"
    }
   ],
   "source": [
    "df.tail(180)"
   ]
  },
  {
   "cell_type": "code",
   "execution_count": 65,
   "metadata": {
    "colab": {
     "base_uri": "https://localhost:8080/"
    },
    "id": "CyJIwCojVryy",
    "outputId": "02c211ac-54a0-4097-b3f4-ba8dd17412d2"
   },
   "outputs": [
    {
     "data": {
      "text/plain": [
       "array([8.68])"
      ]
     },
     "execution_count": 65,
     "metadata": {},
     "output_type": "execute_result"
    }
   ],
   "source": [
    "random_forest_regressor.predict([[0,213,58,18,2009.0,20.118277,27]])"
   ]
  },
  {
   "cell_type": "code",
   "execution_count": 66,
   "metadata": {
    "colab": {
     "base_uri": "https://localhost:8080/"
    },
    "id": "ap0IaFY0lwFx",
    "outputId": "13517a66-8b63-4cb0-bd9a-ebb48594440c"
   },
   "outputs": [
    {
     "data": {
      "text/plain": [
       "array([10.])"
      ]
     },
     "execution_count": 66,
     "metadata": {},
     "output_type": "execute_result"
    }
   ],
   "source": [
    "random_forest_regressor.predict([[31,54,58,18,2011.0,7.022699,31]])"
   ]
  },
  {
   "cell_type": "code",
   "execution_count": 67,
   "metadata": {
    "colab": {
     "base_uri": "https://localhost:8080/"
    },
    "id": "rbOEA3UrlwUR",
    "outputId": "5a6d1fff-45a8-4717-f07f-bb62774e2e7d"
   },
   "outputs": [
    {
     "data": {
      "text/plain": [
       "array([10.])"
      ]
     },
     "execution_count": 67,
     "metadata": {},
     "output_type": "execute_result"
    }
   ],
   "source": [
    "random_forest_regressor.predict([[31,246,58,21,2011.0,2.537681,31]])"
   ]
  },
  {
   "cell_type": "code",
   "execution_count": 68,
   "metadata": {
    "colab": {
     "base_uri": "https://localhost:8080/"
    },
    "id": "qMgevx1au3pg",
    "outputId": "c188ac8c-883d-4c82-951a-51be487916c4"
   },
   "outputs": [
    {
     "data": {
      "text/plain": [
       "array([10.])"
      ]
     },
     "execution_count": 68,
     "metadata": {},
     "output_type": "execute_result"
    }
   ],
   "source": [
    "random_forest_regressor.predict([[31,246,58,27,2011.0,2.077772,31]])"
   ]
  },
  {
   "cell_type": "code",
   "execution_count": 69,
   "metadata": {
    "id": "v7C4T-l4WIHc"
   },
   "outputs": [],
   "source": [
    "import pickle"
   ]
  },
  {
   "cell_type": "code",
   "execution_count": 70,
   "metadata": {},
   "outputs": [],
   "source": [
    "with open('random_forest_regressor_pickle','wb') as f:\n",
    "    pickle.dump(random_forest_regressor,f)"
   ]
  }
 ],
 "metadata": {
  "colab": {
   "provenance": []
  },
  "kernelspec": {
   "display_name": "Python 3 (ipykernel)",
   "language": "python",
   "name": "python3"
  },
  "language_info": {
   "codemirror_mode": {
    "name": "ipython",
    "version": 3
   },
   "file_extension": ".py",
   "mimetype": "text/x-python",
   "name": "python",
   "nbconvert_exporter": "python",
   "pygments_lexer": "ipython3",
   "version": "3.11.5"
  }
 },
 "nbformat": 4,
 "nbformat_minor": 1
}
